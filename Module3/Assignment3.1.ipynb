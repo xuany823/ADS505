{
 "cells": [
  {
   "cell_type": "markdown",
   "id": "d6ff3ebc",
   "metadata": {},
   "source": [
    "# Assignment3.1 Use - Taxi Cancellations"
   ]
  },
  {
   "cell_type": "code",
   "execution_count": 1,
   "id": "7323c8ec",
   "metadata": {},
   "outputs": [
    {
     "name": "stdout",
     "output_type": "stream",
     "text": [
      "no display found. Using non-interactive Agg backend\n"
     ]
    }
   ],
   "source": [
    "import pandas as pd\n",
    "import numpy as np\n",
    "from sklearn.model_selection import train_test_split, GridSearchCV\n",
    "from sklearn.tree import DecisionTreeClassifier, DecisionTreeRegressor\n",
    "\n",
    "import matplotlib.pylab as plt\n",
    "\n",
    "from dmba import plotDecisionTree, gainsChart, liftChart\n",
    "from dmba import classificationSummary, regressionSummary\n",
    "\n",
    "%matplotlib inline"
   ]
  },
  {
   "cell_type": "markdown",
   "id": "018be462",
   "metadata": {},
   "source": []
  },
  {
   "cell_type": "code",
   "execution_count": 2,
   "id": "333b8bca",
   "metadata": {},
   "outputs": [
    {
     "data": {
      "application/vnd.microsoft.datawrangler.viewer.v0+json": {
       "columns": [
        {
         "name": "index",
         "rawType": "int64",
         "type": "integer"
        },
        {
         "name": "row#",
         "rawType": "int64",
         "type": "integer"
        },
        {
         "name": "user_id",
         "rawType": "int64",
         "type": "integer"
        },
        {
         "name": "vehicle_model_id",
         "rawType": "int64",
         "type": "integer"
        },
        {
         "name": "package_id",
         "rawType": "float64",
         "type": "float"
        },
        {
         "name": "travel_type_id",
         "rawType": "int64",
         "type": "integer"
        },
        {
         "name": "from_area_id",
         "rawType": "float64",
         "type": "float"
        },
        {
         "name": "to_area_id",
         "rawType": "float64",
         "type": "float"
        },
        {
         "name": "from_city_id",
         "rawType": "float64",
         "type": "float"
        },
        {
         "name": "to_city_id",
         "rawType": "float64",
         "type": "float"
        },
        {
         "name": "from_date",
         "rawType": "object",
         "type": "string"
        },
        {
         "name": "to_date",
         "rawType": "object",
         "type": "unknown"
        },
        {
         "name": "online_booking",
         "rawType": "int64",
         "type": "integer"
        },
        {
         "name": "mobile_site_booking",
         "rawType": "int64",
         "type": "integer"
        },
        {
         "name": "booking_created",
         "rawType": "object",
         "type": "string"
        },
        {
         "name": "from_lat",
         "rawType": "float64",
         "type": "float"
        },
        {
         "name": "from_long",
         "rawType": "float64",
         "type": "float"
        },
        {
         "name": "to_lat",
         "rawType": "float64",
         "type": "float"
        },
        {
         "name": "to_long",
         "rawType": "float64",
         "type": "float"
        },
        {
         "name": "Car_Cancellation",
         "rawType": "int64",
         "type": "integer"
        }
       ],
       "ref": "695598b1-b562-4e53-a8eb-7698a1d3e7e0",
       "rows": [
        [
         "0",
         "1",
         "17712",
         "12",
         null,
         "2",
         "1021.0",
         "1323.0",
         null,
         null,
         "1/1/13 22:33",
         null,
         "0",
         "0",
         "1/1/13 8:01",
         "13.02853",
         "77.54625",
         "12.869805",
         "77.653211",
         "0"
        ],
        [
         "1",
         "2",
         "17037",
         "12",
         null,
         "2",
         "455.0",
         "1330.0",
         null,
         null,
         "1/1/13 12:43",
         null,
         "0",
         "0",
         "1/1/13 9:59",
         "12.999874",
         "77.67812",
         "12.953434",
         "77.70651",
         "0"
        ],
        [
         "2",
         "3",
         "761",
         "12",
         null,
         "2",
         "814.0",
         "393.0",
         null,
         null,
         "1/2/13 0:28",
         "1/3/13 0:00",
         "1",
         "0",
         "1/1/13 12:14",
         "12.908993",
         "77.6889",
         "13.19956",
         "77.70688",
         "0"
        ],
        [
         "3",
         "4",
         "868",
         "12",
         null,
         "2",
         "297.0",
         "212.0",
         null,
         null,
         "1/1/13 13:12",
         null,
         "0",
         "0",
         "1/1/13 12:42",
         "12.99789",
         "77.61488",
         "12.99474",
         "77.60797",
         "0"
        ],
        [
         "4",
         "5",
         "21716",
         "28",
         null,
         "2",
         "1237.0",
         "330.0",
         null,
         null,
         "1/1/13 16:33",
         null,
         "0",
         "0",
         "1/1/13 15:07",
         "12.92645",
         "77.61206",
         "12.858833",
         "77.589127",
         "0"
        ],
        [
         "5",
         "6",
         "38966",
         "12",
         null,
         "2",
         "61.0",
         "393.0",
         null,
         null,
         "1/1/13 18:00",
         null,
         "0",
         "0",
         "1/1/13 15:11",
         "12.96298",
         "77.71229",
         "13.19956",
         "77.70688",
         "0"
        ],
        [
         "6",
         "7",
         "22196",
         "12",
         null,
         "2",
         "409.0",
         "1194.0",
         null,
         null,
         "1/1/13 16:19",
         null,
         "0",
         "0",
         "1/1/13 15:40",
         "13.07746",
         "77.60668",
         "13.00446",
         "77.56923",
         "0"
        ],
        [
         "7",
         "8",
         "22200",
         "12",
         null,
         "2",
         "1371.0",
         "839.0",
         null,
         null,
         "1/2/13 10:33",
         null,
         "1",
         "0",
         "1/1/13 17:21",
         "13.000418",
         "77.674835",
         "12.85773",
         "77.78642",
         "0"
        ],
        [
         "8",
         "9",
         "22201",
         "12",
         "1.0",
         "3",
         "1323.0",
         null,
         null,
         null,
         "1/1/13 19:55",
         "1/1/13 0:00",
         "1",
         "0",
         "1/1/13 17:25",
         "12.869805",
         "77.653211",
         null,
         null,
         "0"
        ],
        [
         "9",
         "10",
         "22202",
         "12",
         null,
         "2",
         "1017.0",
         "496.0",
         null,
         null,
         "1/2/13 5:02",
         null,
         "0",
         "0",
         "1/1/13 17:30",
         "13.11084",
         "77.60074",
         "13.05845",
         "77.64075",
         "0"
        ]
       ],
       "shape": {
        "columns": 19,
        "rows": 10
       }
      },
      "text/html": [
       "<div>\n",
       "<style scoped>\n",
       "    .dataframe tbody tr th:only-of-type {\n",
       "        vertical-align: middle;\n",
       "    }\n",
       "\n",
       "    .dataframe tbody tr th {\n",
       "        vertical-align: top;\n",
       "    }\n",
       "\n",
       "    .dataframe thead th {\n",
       "        text-align: right;\n",
       "    }\n",
       "</style>\n",
       "<table border=\"1\" class=\"dataframe\">\n",
       "  <thead>\n",
       "    <tr style=\"text-align: right;\">\n",
       "      <th></th>\n",
       "      <th>row#</th>\n",
       "      <th>user_id</th>\n",
       "      <th>vehicle_model_id</th>\n",
       "      <th>package_id</th>\n",
       "      <th>travel_type_id</th>\n",
       "      <th>from_area_id</th>\n",
       "      <th>to_area_id</th>\n",
       "      <th>from_city_id</th>\n",
       "      <th>to_city_id</th>\n",
       "      <th>from_date</th>\n",
       "      <th>to_date</th>\n",
       "      <th>online_booking</th>\n",
       "      <th>mobile_site_booking</th>\n",
       "      <th>booking_created</th>\n",
       "      <th>from_lat</th>\n",
       "      <th>from_long</th>\n",
       "      <th>to_lat</th>\n",
       "      <th>to_long</th>\n",
       "      <th>Car_Cancellation</th>\n",
       "    </tr>\n",
       "  </thead>\n",
       "  <tbody>\n",
       "    <tr>\n",
       "      <th>0</th>\n",
       "      <td>1</td>\n",
       "      <td>17712</td>\n",
       "      <td>12</td>\n",
       "      <td>NaN</td>\n",
       "      <td>2</td>\n",
       "      <td>1021.0</td>\n",
       "      <td>1323.0</td>\n",
       "      <td>NaN</td>\n",
       "      <td>NaN</td>\n",
       "      <td>1/1/13 22:33</td>\n",
       "      <td>NaN</td>\n",
       "      <td>0</td>\n",
       "      <td>0</td>\n",
       "      <td>1/1/13 8:01</td>\n",
       "      <td>13.028530</td>\n",
       "      <td>77.546250</td>\n",
       "      <td>12.869805</td>\n",
       "      <td>77.653211</td>\n",
       "      <td>0</td>\n",
       "    </tr>\n",
       "    <tr>\n",
       "      <th>1</th>\n",
       "      <td>2</td>\n",
       "      <td>17037</td>\n",
       "      <td>12</td>\n",
       "      <td>NaN</td>\n",
       "      <td>2</td>\n",
       "      <td>455.0</td>\n",
       "      <td>1330.0</td>\n",
       "      <td>NaN</td>\n",
       "      <td>NaN</td>\n",
       "      <td>1/1/13 12:43</td>\n",
       "      <td>NaN</td>\n",
       "      <td>0</td>\n",
       "      <td>0</td>\n",
       "      <td>1/1/13 9:59</td>\n",
       "      <td>12.999874</td>\n",
       "      <td>77.678120</td>\n",
       "      <td>12.953434</td>\n",
       "      <td>77.706510</td>\n",
       "      <td>0</td>\n",
       "    </tr>\n",
       "    <tr>\n",
       "      <th>2</th>\n",
       "      <td>3</td>\n",
       "      <td>761</td>\n",
       "      <td>12</td>\n",
       "      <td>NaN</td>\n",
       "      <td>2</td>\n",
       "      <td>814.0</td>\n",
       "      <td>393.0</td>\n",
       "      <td>NaN</td>\n",
       "      <td>NaN</td>\n",
       "      <td>1/2/13 0:28</td>\n",
       "      <td>1/3/13 0:00</td>\n",
       "      <td>1</td>\n",
       "      <td>0</td>\n",
       "      <td>1/1/13 12:14</td>\n",
       "      <td>12.908993</td>\n",
       "      <td>77.688900</td>\n",
       "      <td>13.199560</td>\n",
       "      <td>77.706880</td>\n",
       "      <td>0</td>\n",
       "    </tr>\n",
       "    <tr>\n",
       "      <th>3</th>\n",
       "      <td>4</td>\n",
       "      <td>868</td>\n",
       "      <td>12</td>\n",
       "      <td>NaN</td>\n",
       "      <td>2</td>\n",
       "      <td>297.0</td>\n",
       "      <td>212.0</td>\n",
       "      <td>NaN</td>\n",
       "      <td>NaN</td>\n",
       "      <td>1/1/13 13:12</td>\n",
       "      <td>NaN</td>\n",
       "      <td>0</td>\n",
       "      <td>0</td>\n",
       "      <td>1/1/13 12:42</td>\n",
       "      <td>12.997890</td>\n",
       "      <td>77.614880</td>\n",
       "      <td>12.994740</td>\n",
       "      <td>77.607970</td>\n",
       "      <td>0</td>\n",
       "    </tr>\n",
       "    <tr>\n",
       "      <th>4</th>\n",
       "      <td>5</td>\n",
       "      <td>21716</td>\n",
       "      <td>28</td>\n",
       "      <td>NaN</td>\n",
       "      <td>2</td>\n",
       "      <td>1237.0</td>\n",
       "      <td>330.0</td>\n",
       "      <td>NaN</td>\n",
       "      <td>NaN</td>\n",
       "      <td>1/1/13 16:33</td>\n",
       "      <td>NaN</td>\n",
       "      <td>0</td>\n",
       "      <td>0</td>\n",
       "      <td>1/1/13 15:07</td>\n",
       "      <td>12.926450</td>\n",
       "      <td>77.612060</td>\n",
       "      <td>12.858833</td>\n",
       "      <td>77.589127</td>\n",
       "      <td>0</td>\n",
       "    </tr>\n",
       "    <tr>\n",
       "      <th>5</th>\n",
       "      <td>6</td>\n",
       "      <td>38966</td>\n",
       "      <td>12</td>\n",
       "      <td>NaN</td>\n",
       "      <td>2</td>\n",
       "      <td>61.0</td>\n",
       "      <td>393.0</td>\n",
       "      <td>NaN</td>\n",
       "      <td>NaN</td>\n",
       "      <td>1/1/13 18:00</td>\n",
       "      <td>NaN</td>\n",
       "      <td>0</td>\n",
       "      <td>0</td>\n",
       "      <td>1/1/13 15:11</td>\n",
       "      <td>12.962980</td>\n",
       "      <td>77.712290</td>\n",
       "      <td>13.199560</td>\n",
       "      <td>77.706880</td>\n",
       "      <td>0</td>\n",
       "    </tr>\n",
       "    <tr>\n",
       "      <th>6</th>\n",
       "      <td>7</td>\n",
       "      <td>22196</td>\n",
       "      <td>12</td>\n",
       "      <td>NaN</td>\n",
       "      <td>2</td>\n",
       "      <td>409.0</td>\n",
       "      <td>1194.0</td>\n",
       "      <td>NaN</td>\n",
       "      <td>NaN</td>\n",
       "      <td>1/1/13 16:19</td>\n",
       "      <td>NaN</td>\n",
       "      <td>0</td>\n",
       "      <td>0</td>\n",
       "      <td>1/1/13 15:40</td>\n",
       "      <td>13.077460</td>\n",
       "      <td>77.606680</td>\n",
       "      <td>13.004460</td>\n",
       "      <td>77.569230</td>\n",
       "      <td>0</td>\n",
       "    </tr>\n",
       "    <tr>\n",
       "      <th>7</th>\n",
       "      <td>8</td>\n",
       "      <td>22200</td>\n",
       "      <td>12</td>\n",
       "      <td>NaN</td>\n",
       "      <td>2</td>\n",
       "      <td>1371.0</td>\n",
       "      <td>839.0</td>\n",
       "      <td>NaN</td>\n",
       "      <td>NaN</td>\n",
       "      <td>1/2/13 10:33</td>\n",
       "      <td>NaN</td>\n",
       "      <td>1</td>\n",
       "      <td>0</td>\n",
       "      <td>1/1/13 17:21</td>\n",
       "      <td>13.000418</td>\n",
       "      <td>77.674835</td>\n",
       "      <td>12.857730</td>\n",
       "      <td>77.786420</td>\n",
       "      <td>0</td>\n",
       "    </tr>\n",
       "    <tr>\n",
       "      <th>8</th>\n",
       "      <td>9</td>\n",
       "      <td>22201</td>\n",
       "      <td>12</td>\n",
       "      <td>1.0</td>\n",
       "      <td>3</td>\n",
       "      <td>1323.0</td>\n",
       "      <td>NaN</td>\n",
       "      <td>NaN</td>\n",
       "      <td>NaN</td>\n",
       "      <td>1/1/13 19:55</td>\n",
       "      <td>1/1/13 0:00</td>\n",
       "      <td>1</td>\n",
       "      <td>0</td>\n",
       "      <td>1/1/13 17:25</td>\n",
       "      <td>12.869805</td>\n",
       "      <td>77.653211</td>\n",
       "      <td>NaN</td>\n",
       "      <td>NaN</td>\n",
       "      <td>0</td>\n",
       "    </tr>\n",
       "    <tr>\n",
       "      <th>9</th>\n",
       "      <td>10</td>\n",
       "      <td>22202</td>\n",
       "      <td>12</td>\n",
       "      <td>NaN</td>\n",
       "      <td>2</td>\n",
       "      <td>1017.0</td>\n",
       "      <td>496.0</td>\n",
       "      <td>NaN</td>\n",
       "      <td>NaN</td>\n",
       "      <td>1/2/13 5:02</td>\n",
       "      <td>NaN</td>\n",
       "      <td>0</td>\n",
       "      <td>0</td>\n",
       "      <td>1/1/13 17:30</td>\n",
       "      <td>13.110840</td>\n",
       "      <td>77.600740</td>\n",
       "      <td>13.058450</td>\n",
       "      <td>77.640750</td>\n",
       "      <td>0</td>\n",
       "    </tr>\n",
       "  </tbody>\n",
       "</table>\n",
       "</div>"
      ],
      "text/plain": [
       "   row#  user_id  vehicle_model_id  package_id  travel_type_id  from_area_id  \\\n",
       "0     1    17712                12         NaN               2        1021.0   \n",
       "1     2    17037                12         NaN               2         455.0   \n",
       "2     3      761                12         NaN               2         814.0   \n",
       "3     4      868                12         NaN               2         297.0   \n",
       "4     5    21716                28         NaN               2        1237.0   \n",
       "5     6    38966                12         NaN               2          61.0   \n",
       "6     7    22196                12         NaN               2         409.0   \n",
       "7     8    22200                12         NaN               2        1371.0   \n",
       "8     9    22201                12         1.0               3        1323.0   \n",
       "9    10    22202                12         NaN               2        1017.0   \n",
       "\n",
       "   to_area_id  from_city_id  to_city_id     from_date      to_date  \\\n",
       "0      1323.0           NaN         NaN  1/1/13 22:33          NaN   \n",
       "1      1330.0           NaN         NaN  1/1/13 12:43          NaN   \n",
       "2       393.0           NaN         NaN   1/2/13 0:28  1/3/13 0:00   \n",
       "3       212.0           NaN         NaN  1/1/13 13:12          NaN   \n",
       "4       330.0           NaN         NaN  1/1/13 16:33          NaN   \n",
       "5       393.0           NaN         NaN  1/1/13 18:00          NaN   \n",
       "6      1194.0           NaN         NaN  1/1/13 16:19          NaN   \n",
       "7       839.0           NaN         NaN  1/2/13 10:33          NaN   \n",
       "8         NaN           NaN         NaN  1/1/13 19:55  1/1/13 0:00   \n",
       "9       496.0           NaN         NaN   1/2/13 5:02          NaN   \n",
       "\n",
       "   online_booking  mobile_site_booking booking_created   from_lat  from_long  \\\n",
       "0               0                    0     1/1/13 8:01  13.028530  77.546250   \n",
       "1               0                    0     1/1/13 9:59  12.999874  77.678120   \n",
       "2               1                    0    1/1/13 12:14  12.908993  77.688900   \n",
       "3               0                    0    1/1/13 12:42  12.997890  77.614880   \n",
       "4               0                    0    1/1/13 15:07  12.926450  77.612060   \n",
       "5               0                    0    1/1/13 15:11  12.962980  77.712290   \n",
       "6               0                    0    1/1/13 15:40  13.077460  77.606680   \n",
       "7               1                    0    1/1/13 17:21  13.000418  77.674835   \n",
       "8               1                    0    1/1/13 17:25  12.869805  77.653211   \n",
       "9               0                    0    1/1/13 17:30  13.110840  77.600740   \n",
       "\n",
       "      to_lat    to_long  Car_Cancellation  \n",
       "0  12.869805  77.653211                 0  \n",
       "1  12.953434  77.706510                 0  \n",
       "2  13.199560  77.706880                 0  \n",
       "3  12.994740  77.607970                 0  \n",
       "4  12.858833  77.589127                 0  \n",
       "5  13.199560  77.706880                 0  \n",
       "6  13.004460  77.569230                 0  \n",
       "7  12.857730  77.786420                 0  \n",
       "8        NaN        NaN                 0  \n",
       "9  13.058450  77.640750                 0  "
      ]
     },
     "execution_count": 2,
     "metadata": {},
     "output_type": "execute_result"
    }
   ],
   "source": [
    "# Load the data\n",
    "df=pd.read_csv(\"Taxi-cancellation-case.csv\")\n",
    "df.head(10)"
   ]
  },
  {
   "cell_type": "code",
   "execution_count": null,
   "id": "69645378",
   "metadata": {},
   "outputs": [
    {
     "name": "stdout",
     "output_type": "stream",
     "text": [
      "shape of the dataset: (10000, 19)\n",
      "data types: row#                     int64\n",
      "user_id                  int64\n",
      "vehicle_model_id         int64\n",
      "package_id             float64\n",
      "travel_type_id           int64\n",
      "from_area_id           float64\n",
      "to_area_id             float64\n",
      "from_city_id           float64\n",
      "to_city_id             float64\n",
      "from_date               object\n",
      "to_date                 object\n",
      "online_booking           int64\n",
      "mobile_site_booking      int64\n",
      "booking_created         object\n",
      "from_lat               float64\n",
      "from_long              float64\n",
      "to_lat                 float64\n",
      "to_long                float64\n",
      "Car_Cancellation         int64\n",
      "dtype: object\n"
     ]
    }
   ],
   "source": [
    "# Basic information\n",
    "print(\"shape of the dataset:\", df.shape)\n",
    "print(\"data types:\", df.dtypes)"
   ]
  },
  {
   "cell_type": "code",
   "execution_count": 7,
   "id": "048b6043",
   "metadata": {},
   "outputs": [
    {
     "data": {
      "application/vnd.microsoft.datawrangler.viewer.v0+json": {
       "columns": [
        {
         "name": "index",
         "rawType": "object",
         "type": "string"
        },
        {
         "name": "0",
         "rawType": "int64",
         "type": "integer"
        }
       ],
       "ref": "e66dfa80-66a5-4455-a1c7-b235b0458ae0",
       "rows": [
        [
         "row#",
         "0"
        ],
        [
         "user_id",
         "0"
        ],
        [
         "vehicle_model_id",
         "0"
        ],
        [
         "package_id",
         "8248"
        ],
        [
         "travel_type_id",
         "0"
        ],
        [
         "from_area_id",
         "15"
        ],
        [
         "to_area_id",
         "2091"
        ],
        [
         "from_city_id",
         "6294"
        ],
        [
         "to_city_id",
         "9661"
        ],
        [
         "from_date",
         "0"
        ],
        [
         "to_date",
         "4178"
        ],
        [
         "online_booking",
         "0"
        ],
        [
         "mobile_site_booking",
         "0"
        ],
        [
         "booking_created",
         "0"
        ],
        [
         "from_lat",
         "15"
        ],
        [
         "from_long",
         "15"
        ],
        [
         "to_lat",
         "2091"
        ],
        [
         "to_long",
         "2091"
        ],
        [
         "Car_Cancellation",
         "0"
        ]
       ],
       "shape": {
        "columns": 1,
        "rows": 19
       }
      },
      "text/plain": [
       "row#                      0\n",
       "user_id                   0\n",
       "vehicle_model_id          0\n",
       "package_id             8248\n",
       "travel_type_id            0\n",
       "from_area_id             15\n",
       "to_area_id             2091\n",
       "from_city_id           6294\n",
       "to_city_id             9661\n",
       "from_date                 0\n",
       "to_date                4178\n",
       "online_booking            0\n",
       "mobile_site_booking       0\n",
       "booking_created           0\n",
       "from_lat                 15\n",
       "from_long                15\n",
       "to_lat                 2091\n",
       "to_long                2091\n",
       "Car_Cancellation          0\n",
       "dtype: int64"
      ]
     },
     "execution_count": 7,
     "metadata": {},
     "output_type": "execute_result"
    }
   ],
   "source": [
    "df.isnull().sum() #Check for missing values\n"
   ]
  },
  {
   "cell_type": "code",
   "execution_count": 6,
   "id": "f258647e",
   "metadata": {},
   "outputs": [
    {
     "data": {
      "application/vnd.microsoft.datawrangler.viewer.v0+json": {
       "columns": [
        {
         "name": "index",
         "rawType": "object",
         "type": "string"
        },
        {
         "name": "row#",
         "rawType": "float64",
         "type": "float"
        },
        {
         "name": "user_id",
         "rawType": "float64",
         "type": "float"
        },
        {
         "name": "vehicle_model_id",
         "rawType": "float64",
         "type": "float"
        },
        {
         "name": "package_id",
         "rawType": "float64",
         "type": "float"
        },
        {
         "name": "travel_type_id",
         "rawType": "float64",
         "type": "float"
        },
        {
         "name": "from_area_id",
         "rawType": "float64",
         "type": "float"
        },
        {
         "name": "to_area_id",
         "rawType": "float64",
         "type": "float"
        },
        {
         "name": "from_city_id",
         "rawType": "float64",
         "type": "float"
        },
        {
         "name": "to_city_id",
         "rawType": "float64",
         "type": "float"
        },
        {
         "name": "online_booking",
         "rawType": "float64",
         "type": "float"
        },
        {
         "name": "mobile_site_booking",
         "rawType": "float64",
         "type": "float"
        },
        {
         "name": "from_lat",
         "rawType": "float64",
         "type": "float"
        },
        {
         "name": "from_long",
         "rawType": "float64",
         "type": "float"
        },
        {
         "name": "to_lat",
         "rawType": "float64",
         "type": "float"
        },
        {
         "name": "to_long",
         "rawType": "float64",
         "type": "float"
        },
        {
         "name": "Car_Cancellation",
         "rawType": "float64",
         "type": "float"
        }
       ],
       "ref": "2f41d098-f5ee-445d-b7d9-60f47ab581ca",
       "rows": [
        [
         "count",
         "10000.0",
         "10000.0",
         "10000.0",
         "1752.0",
         "10000.0",
         "9985.0",
         "7909.0",
         "3706.0",
         "339.0",
         "10000.0",
         "10000.0",
         "9985.0",
         "9985.0",
         "7909.0",
         "7909.0",
         "10000.0"
        ],
        [
         "mean",
         "5000.5",
         "30663.9662",
         "26.1917",
         "1.9880136986301369",
         "2.1413",
         "709.7677516274412",
         "665.4578328486534",
         "14.898003237992445",
         "68.31858407079646",
         "0.3533",
         "0.0424",
         "12.98330054241362",
         "77.63642342894342",
         "13.026217102541407",
         "77.64075240814262",
         "0.0743"
        ],
        [
         "std",
         "2886.8956799071675",
         "10988.599834332374",
         "27.22805332370972",
         "1.401791357750212",
         "0.4349174925460372",
         "418.968918380484",
         "400.62856202797354",
         "1.1907703110141568",
         "49.8864270153323",
         "0.4780187864467459",
         "0.20151005094054988",
         "0.08565930601370303",
         "0.058666867113684594",
         "0.1136325888602614",
         "0.06352160448515778",
         "0.2622715932747271"
        ],
        [
         "min",
         "1.0",
         "16.0",
         "1.0",
         "1.0",
         "1.0",
         "2.0",
         "6.0",
         "1.0",
         "4.0",
         "0.0",
         "0.0",
         "12.77663",
         "77.38693",
         "12.77663",
         "77.38693",
         "0.0"
        ],
        [
         "25%",
         "2500.75",
         "24410.75",
         "12.0",
         "1.0",
         "2.0",
         "393.0",
         "393.0",
         "15.0",
         "32.0",
         "0.0",
         "0.0",
         "12.92732",
         "77.5948",
         "12.95185",
         "77.587527",
         "0.0"
        ],
        [
         "50%",
         "5000.5",
         "31510.0",
         "12.0",
         "2.0",
         "2.0",
         "590.0",
         "516.0",
         "15.0",
         "49.0",
         "0.0",
         "0.0",
         "12.969368",
         "77.63575",
         "12.98275",
         "77.64503",
         "0.0"
        ],
        [
         "75%",
         "7500.25",
         "39094.5",
         "24.0",
         "2.0",
         "2.0",
         "1086.0",
         "1052.0",
         "15.0",
         "108.0",
         "1.0",
         "0.0",
         "13.00645",
         "77.68779",
         "13.19956",
         "77.70688",
         "0.0"
        ],
        [
         "max",
         "10000.0",
         "48729.0",
         "91.0",
         "7.0",
         "3.0",
         "1401.0",
         "1403.0",
         "15.0",
         "203.0",
         "1.0",
         "1.0",
         "13.366072",
         "77.78642",
         "13.366072",
         "77.78642",
         "1.0"
        ]
       ],
       "shape": {
        "columns": 16,
        "rows": 8
       }
      },
      "text/html": [
       "<div>\n",
       "<style scoped>\n",
       "    .dataframe tbody tr th:only-of-type {\n",
       "        vertical-align: middle;\n",
       "    }\n",
       "\n",
       "    .dataframe tbody tr th {\n",
       "        vertical-align: top;\n",
       "    }\n",
       "\n",
       "    .dataframe thead th {\n",
       "        text-align: right;\n",
       "    }\n",
       "</style>\n",
       "<table border=\"1\" class=\"dataframe\">\n",
       "  <thead>\n",
       "    <tr style=\"text-align: right;\">\n",
       "      <th></th>\n",
       "      <th>row#</th>\n",
       "      <th>user_id</th>\n",
       "      <th>vehicle_model_id</th>\n",
       "      <th>package_id</th>\n",
       "      <th>travel_type_id</th>\n",
       "      <th>from_area_id</th>\n",
       "      <th>to_area_id</th>\n",
       "      <th>from_city_id</th>\n",
       "      <th>to_city_id</th>\n",
       "      <th>online_booking</th>\n",
       "      <th>mobile_site_booking</th>\n",
       "      <th>from_lat</th>\n",
       "      <th>from_long</th>\n",
       "      <th>to_lat</th>\n",
       "      <th>to_long</th>\n",
       "      <th>Car_Cancellation</th>\n",
       "    </tr>\n",
       "  </thead>\n",
       "  <tbody>\n",
       "    <tr>\n",
       "      <th>count</th>\n",
       "      <td>10000.00000</td>\n",
       "      <td>10000.000000</td>\n",
       "      <td>10000.000000</td>\n",
       "      <td>1752.000000</td>\n",
       "      <td>10000.000000</td>\n",
       "      <td>9985.000000</td>\n",
       "      <td>7909.000000</td>\n",
       "      <td>3706.000000</td>\n",
       "      <td>339.000000</td>\n",
       "      <td>10000.000000</td>\n",
       "      <td>10000.00000</td>\n",
       "      <td>9985.000000</td>\n",
       "      <td>9985.000000</td>\n",
       "      <td>7909.000000</td>\n",
       "      <td>7909.000000</td>\n",
       "      <td>10000.000000</td>\n",
       "    </tr>\n",
       "    <tr>\n",
       "      <th>mean</th>\n",
       "      <td>5000.50000</td>\n",
       "      <td>30663.966200</td>\n",
       "      <td>26.191700</td>\n",
       "      <td>1.988014</td>\n",
       "      <td>2.141300</td>\n",
       "      <td>709.767752</td>\n",
       "      <td>665.457833</td>\n",
       "      <td>14.898003</td>\n",
       "      <td>68.318584</td>\n",
       "      <td>0.353300</td>\n",
       "      <td>0.04240</td>\n",
       "      <td>12.983301</td>\n",
       "      <td>77.636423</td>\n",
       "      <td>13.026217</td>\n",
       "      <td>77.640752</td>\n",
       "      <td>0.074300</td>\n",
       "    </tr>\n",
       "    <tr>\n",
       "      <th>std</th>\n",
       "      <td>2886.89568</td>\n",
       "      <td>10988.599834</td>\n",
       "      <td>27.228053</td>\n",
       "      <td>1.401791</td>\n",
       "      <td>0.434917</td>\n",
       "      <td>418.968918</td>\n",
       "      <td>400.628562</td>\n",
       "      <td>1.190770</td>\n",
       "      <td>49.886427</td>\n",
       "      <td>0.478019</td>\n",
       "      <td>0.20151</td>\n",
       "      <td>0.085659</td>\n",
       "      <td>0.058667</td>\n",
       "      <td>0.113633</td>\n",
       "      <td>0.063522</td>\n",
       "      <td>0.262272</td>\n",
       "    </tr>\n",
       "    <tr>\n",
       "      <th>min</th>\n",
       "      <td>1.00000</td>\n",
       "      <td>16.000000</td>\n",
       "      <td>1.000000</td>\n",
       "      <td>1.000000</td>\n",
       "      <td>1.000000</td>\n",
       "      <td>2.000000</td>\n",
       "      <td>6.000000</td>\n",
       "      <td>1.000000</td>\n",
       "      <td>4.000000</td>\n",
       "      <td>0.000000</td>\n",
       "      <td>0.00000</td>\n",
       "      <td>12.776630</td>\n",
       "      <td>77.386930</td>\n",
       "      <td>12.776630</td>\n",
       "      <td>77.386930</td>\n",
       "      <td>0.000000</td>\n",
       "    </tr>\n",
       "    <tr>\n",
       "      <th>25%</th>\n",
       "      <td>2500.75000</td>\n",
       "      <td>24410.750000</td>\n",
       "      <td>12.000000</td>\n",
       "      <td>1.000000</td>\n",
       "      <td>2.000000</td>\n",
       "      <td>393.000000</td>\n",
       "      <td>393.000000</td>\n",
       "      <td>15.000000</td>\n",
       "      <td>32.000000</td>\n",
       "      <td>0.000000</td>\n",
       "      <td>0.00000</td>\n",
       "      <td>12.927320</td>\n",
       "      <td>77.594800</td>\n",
       "      <td>12.951850</td>\n",
       "      <td>77.587527</td>\n",
       "      <td>0.000000</td>\n",
       "    </tr>\n",
       "    <tr>\n",
       "      <th>50%</th>\n",
       "      <td>5000.50000</td>\n",
       "      <td>31510.000000</td>\n",
       "      <td>12.000000</td>\n",
       "      <td>2.000000</td>\n",
       "      <td>2.000000</td>\n",
       "      <td>590.000000</td>\n",
       "      <td>516.000000</td>\n",
       "      <td>15.000000</td>\n",
       "      <td>49.000000</td>\n",
       "      <td>0.000000</td>\n",
       "      <td>0.00000</td>\n",
       "      <td>12.969368</td>\n",
       "      <td>77.635750</td>\n",
       "      <td>12.982750</td>\n",
       "      <td>77.645030</td>\n",
       "      <td>0.000000</td>\n",
       "    </tr>\n",
       "    <tr>\n",
       "      <th>75%</th>\n",
       "      <td>7500.25000</td>\n",
       "      <td>39094.500000</td>\n",
       "      <td>24.000000</td>\n",
       "      <td>2.000000</td>\n",
       "      <td>2.000000</td>\n",
       "      <td>1086.000000</td>\n",
       "      <td>1052.000000</td>\n",
       "      <td>15.000000</td>\n",
       "      <td>108.000000</td>\n",
       "      <td>1.000000</td>\n",
       "      <td>0.00000</td>\n",
       "      <td>13.006450</td>\n",
       "      <td>77.687790</td>\n",
       "      <td>13.199560</td>\n",
       "      <td>77.706880</td>\n",
       "      <td>0.000000</td>\n",
       "    </tr>\n",
       "    <tr>\n",
       "      <th>max</th>\n",
       "      <td>10000.00000</td>\n",
       "      <td>48729.000000</td>\n",
       "      <td>91.000000</td>\n",
       "      <td>7.000000</td>\n",
       "      <td>3.000000</td>\n",
       "      <td>1401.000000</td>\n",
       "      <td>1403.000000</td>\n",
       "      <td>15.000000</td>\n",
       "      <td>203.000000</td>\n",
       "      <td>1.000000</td>\n",
       "      <td>1.00000</td>\n",
       "      <td>13.366072</td>\n",
       "      <td>77.786420</td>\n",
       "      <td>13.366072</td>\n",
       "      <td>77.786420</td>\n",
       "      <td>1.000000</td>\n",
       "    </tr>\n",
       "  </tbody>\n",
       "</table>\n",
       "</div>"
      ],
      "text/plain": [
       "              row#       user_id  vehicle_model_id   package_id  \\\n",
       "count  10000.00000  10000.000000      10000.000000  1752.000000   \n",
       "mean    5000.50000  30663.966200         26.191700     1.988014   \n",
       "std     2886.89568  10988.599834         27.228053     1.401791   \n",
       "min        1.00000     16.000000          1.000000     1.000000   \n",
       "25%     2500.75000  24410.750000         12.000000     1.000000   \n",
       "50%     5000.50000  31510.000000         12.000000     2.000000   \n",
       "75%     7500.25000  39094.500000         24.000000     2.000000   \n",
       "max    10000.00000  48729.000000         91.000000     7.000000   \n",
       "\n",
       "       travel_type_id  from_area_id   to_area_id  from_city_id  to_city_id  \\\n",
       "count    10000.000000   9985.000000  7909.000000   3706.000000  339.000000   \n",
       "mean         2.141300    709.767752   665.457833     14.898003   68.318584   \n",
       "std          0.434917    418.968918   400.628562      1.190770   49.886427   \n",
       "min          1.000000      2.000000     6.000000      1.000000    4.000000   \n",
       "25%          2.000000    393.000000   393.000000     15.000000   32.000000   \n",
       "50%          2.000000    590.000000   516.000000     15.000000   49.000000   \n",
       "75%          2.000000   1086.000000  1052.000000     15.000000  108.000000   \n",
       "max          3.000000   1401.000000  1403.000000     15.000000  203.000000   \n",
       "\n",
       "       online_booking  mobile_site_booking     from_lat    from_long  \\\n",
       "count    10000.000000          10000.00000  9985.000000  9985.000000   \n",
       "mean         0.353300              0.04240    12.983301    77.636423   \n",
       "std          0.478019              0.20151     0.085659     0.058667   \n",
       "min          0.000000              0.00000    12.776630    77.386930   \n",
       "25%          0.000000              0.00000    12.927320    77.594800   \n",
       "50%          0.000000              0.00000    12.969368    77.635750   \n",
       "75%          1.000000              0.00000    13.006450    77.687790   \n",
       "max          1.000000              1.00000    13.366072    77.786420   \n",
       "\n",
       "            to_lat      to_long  Car_Cancellation  \n",
       "count  7909.000000  7909.000000      10000.000000  \n",
       "mean     13.026217    77.640752          0.074300  \n",
       "std       0.113633     0.063522          0.262272  \n",
       "min      12.776630    77.386930          0.000000  \n",
       "25%      12.951850    77.587527          0.000000  \n",
       "50%      12.982750    77.645030          0.000000  \n",
       "75%      13.199560    77.706880          0.000000  \n",
       "max      13.366072    77.786420          1.000000  "
      ]
     },
     "execution_count": 6,
     "metadata": {},
     "output_type": "execute_result"
    }
   ],
   "source": [
    "df.describe()"
   ]
  },
  {
   "cell_type": "markdown",
   "id": "2600e82d",
   "metadata": {},
   "source": [
    "## 1. "
   ]
  },
  {
   "cell_type": "markdown",
   "id": "54d1ab99",
   "metadata": {},
   "source": [
    "## 2. "
   ]
  },
  {
   "cell_type": "markdown",
   "id": "3b3fb7d5",
   "metadata": {},
   "source": [
    "## 3. "
   ]
  },
  {
   "cell_type": "markdown",
   "id": "f5cc9083",
   "metadata": {},
   "source": [
    "### 3.1"
   ]
  },
  {
   "cell_type": "markdown",
   "id": "2daccf24",
   "metadata": {},
   "source": [
    "### 3.2"
   ]
  },
  {
   "cell_type": "markdown",
   "id": "c9476af6",
   "metadata": {},
   "source": [
    "### 3.3"
   ]
  },
  {
   "cell_type": "markdown",
   "id": "5f1e594e",
   "metadata": {},
   "source": [
    "### 3.4"
   ]
  },
  {
   "cell_type": "markdown",
   "id": "6d80c8be",
   "metadata": {},
   "source": [
    "## 4. "
   ]
  },
  {
   "cell_type": "markdown",
   "id": "c63a3962",
   "metadata": {},
   "source": [
    "## 5."
   ]
  },
  {
   "cell_type": "markdown",
   "id": "fe1adba4",
   "metadata": {},
   "source": [
    "## 6."
   ]
  },
  {
   "cell_type": "markdown",
   "id": "b064b74e",
   "metadata": {},
   "source": [
    "## 7."
   ]
  },
  {
   "cell_type": "markdown",
   "id": "9d49f813",
   "metadata": {},
   "source": []
  }
 ],
 "metadata": {
  "kernelspec": {
   "display_name": "base",
   "language": "python",
   "name": "python3"
  },
  "language_info": {
   "codemirror_mode": {
    "name": "ipython",
    "version": 3
   },
   "file_extension": ".py",
   "mimetype": "text/x-python",
   "name": "python",
   "nbconvert_exporter": "python",
   "pygments_lexer": "ipython3",
   "version": "3.12.7"
  }
 },
 "nbformat": 4,
 "nbformat_minor": 5
}
