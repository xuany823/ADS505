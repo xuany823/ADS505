{
 "cells": [
  {
   "cell_type": "markdown",
   "id": "4bb162c4",
   "metadata": {},
   "source": [
    "# Assignment 2.1 Use Case - Tayko Software Cataloger"
   ]
  },
  {
   "cell_type": "code",
   "execution_count": 22,
   "id": "8a6e9697",
   "metadata": {},
   "outputs": [],
   "source": [
    "import pandas as pd\n",
    "import numpy as np\n",
    "\n",
    "from sklearn.model_selection import train_test_split\n",
    "from sklearn.linear_model import LinearRegression\n",
    "import matplotlib.pylab as plt\n",
    "import seaborn as sns\n",
    "\n",
    "\n",
    "import dmba\n",
    "from dmba import regressionSummary\n",
    "from dmba import adjusted_r2_score, AIC_score, BIC_score\n",
    "\n",
    "%matplotlib inline"
   ]
  },
  {
   "cell_type": "markdown",
   "id": "c921a972",
   "metadata": {},
   "source": [
    "This case study examines how Tayko, a software catalog firm that sells games and educational software, prepared to launch a revised collection of items in a new catalog mailing. Tayko began as a software manufacturer and later expanded its offerings to include third-party titles, making its customer list a valuable asset. Because mailing is costly and most recipients are unlikely to purchase, the objective is to minimize wasted expenses by identifying customers with a higher probability of responding. In this analysis, logistic regression, multiple linear regression, and regression trees are applied to recommend which customers should receive the catalog and to estimate their expected spending, with the goal of optimizing the mailing campaign and improving gross profits.\n"
   ]
  },
  {
   "cell_type": "code",
   "execution_count": 23,
   "id": "5317aa39",
   "metadata": {},
   "outputs": [
    {
     "name": "stdout",
     "output_type": "stream",
     "text": [
      "Shape of dataset: (2000, 25)\n",
      "\n",
      "Data types:\n",
      " sequence_number         int64\n",
      "US                      int64\n",
      "source_a                int64\n",
      "source_c                int64\n",
      "source_b                int64\n",
      "source_d                int64\n",
      "source_e                int64\n",
      "source_m                int64\n",
      "source_o                int64\n",
      "source_h                int64\n",
      "source_r                int64\n",
      "source_s                int64\n",
      "source_t                int64\n",
      "source_u                int64\n",
      "source_p                int64\n",
      "source_x                int64\n",
      "source_w                int64\n",
      "Freq                    int64\n",
      "last_update_days_ago    int64\n",
      "1st_update_days_ago     int64\n",
      "Web order               int64\n",
      "Gender=male             int64\n",
      "Address_is_res          int64\n",
      "Purchase                int64\n",
      "Spending                int64\n",
      "dtype: object\n"
     ]
    },
    {
     "data": {
      "application/vnd.microsoft.datawrangler.viewer.v0+json": {
       "columns": [
        {
         "name": "index",
         "rawType": "int64",
         "type": "integer"
        },
        {
         "name": "sequence_number",
         "rawType": "int64",
         "type": "integer"
        },
        {
         "name": "US",
         "rawType": "int64",
         "type": "integer"
        },
        {
         "name": "source_a",
         "rawType": "int64",
         "type": "integer"
        },
        {
         "name": "source_c",
         "rawType": "int64",
         "type": "integer"
        },
        {
         "name": "source_b",
         "rawType": "int64",
         "type": "integer"
        },
        {
         "name": "source_d",
         "rawType": "int64",
         "type": "integer"
        },
        {
         "name": "source_e",
         "rawType": "int64",
         "type": "integer"
        },
        {
         "name": "source_m",
         "rawType": "int64",
         "type": "integer"
        },
        {
         "name": "source_o",
         "rawType": "int64",
         "type": "integer"
        },
        {
         "name": "source_h",
         "rawType": "int64",
         "type": "integer"
        },
        {
         "name": "source_r",
         "rawType": "int64",
         "type": "integer"
        },
        {
         "name": "source_s",
         "rawType": "int64",
         "type": "integer"
        },
        {
         "name": "source_t",
         "rawType": "int64",
         "type": "integer"
        },
        {
         "name": "source_u",
         "rawType": "int64",
         "type": "integer"
        },
        {
         "name": "source_p",
         "rawType": "int64",
         "type": "integer"
        },
        {
         "name": "source_x",
         "rawType": "int64",
         "type": "integer"
        },
        {
         "name": "source_w",
         "rawType": "int64",
         "type": "integer"
        },
        {
         "name": "Freq",
         "rawType": "int64",
         "type": "integer"
        },
        {
         "name": "last_update_days_ago",
         "rawType": "int64",
         "type": "integer"
        },
        {
         "name": "1st_update_days_ago",
         "rawType": "int64",
         "type": "integer"
        },
        {
         "name": "Web order",
         "rawType": "int64",
         "type": "integer"
        },
        {
         "name": "Gender=male",
         "rawType": "int64",
         "type": "integer"
        },
        {
         "name": "Address_is_res",
         "rawType": "int64",
         "type": "integer"
        },
        {
         "name": "Purchase",
         "rawType": "int64",
         "type": "integer"
        },
        {
         "name": "Spending",
         "rawType": "int64",
         "type": "integer"
        }
       ],
       "ref": "1c87fc84-a223-4460-abab-723585608957",
       "rows": [
        [
         "0",
         "1",
         "1",
         "0",
         "0",
         "1",
         "0",
         "0",
         "0",
         "0",
         "0",
         "0",
         "0",
         "0",
         "0",
         "0",
         "0",
         "0",
         "2",
         "3662",
         "3662",
         "1",
         "0",
         "1",
         "1",
         "128"
        ],
        [
         "1",
         "2",
         "1",
         "0",
         "0",
         "0",
         "0",
         "1",
         "0",
         "0",
         "0",
         "0",
         "0",
         "0",
         "0",
         "0",
         "0",
         "0",
         "0",
         "2900",
         "2900",
         "1",
         "1",
         "0",
         "0",
         "0"
        ],
        [
         "2",
         "3",
         "1",
         "0",
         "0",
         "0",
         "0",
         "0",
         "0",
         "0",
         "0",
         "0",
         "0",
         "1",
         "0",
         "0",
         "0",
         "0",
         "2",
         "3883",
         "3914",
         "0",
         "0",
         "0",
         "1",
         "127"
        ],
        [
         "3",
         "4",
         "1",
         "0",
         "1",
         "0",
         "0",
         "0",
         "0",
         "0",
         "0",
         "0",
         "0",
         "0",
         "0",
         "0",
         "0",
         "0",
         "1",
         "829",
         "829",
         "0",
         "1",
         "0",
         "0",
         "0"
        ],
        [
         "4",
         "5",
         "1",
         "0",
         "1",
         "0",
         "0",
         "0",
         "0",
         "0",
         "0",
         "0",
         "0",
         "0",
         "0",
         "0",
         "0",
         "0",
         "1",
         "869",
         "869",
         "0",
         "0",
         "0",
         "0",
         "0"
        ]
       ],
       "shape": {
        "columns": 25,
        "rows": 5
       }
      },
      "text/html": [
       "<div>\n",
       "<style scoped>\n",
       "    .dataframe tbody tr th:only-of-type {\n",
       "        vertical-align: middle;\n",
       "    }\n",
       "\n",
       "    .dataframe tbody tr th {\n",
       "        vertical-align: top;\n",
       "    }\n",
       "\n",
       "    .dataframe thead th {\n",
       "        text-align: right;\n",
       "    }\n",
       "</style>\n",
       "<table border=\"1\" class=\"dataframe\">\n",
       "  <thead>\n",
       "    <tr style=\"text-align: right;\">\n",
       "      <th></th>\n",
       "      <th>sequence_number</th>\n",
       "      <th>US</th>\n",
       "      <th>source_a</th>\n",
       "      <th>source_c</th>\n",
       "      <th>source_b</th>\n",
       "      <th>source_d</th>\n",
       "      <th>source_e</th>\n",
       "      <th>source_m</th>\n",
       "      <th>source_o</th>\n",
       "      <th>source_h</th>\n",
       "      <th>...</th>\n",
       "      <th>source_x</th>\n",
       "      <th>source_w</th>\n",
       "      <th>Freq</th>\n",
       "      <th>last_update_days_ago</th>\n",
       "      <th>1st_update_days_ago</th>\n",
       "      <th>Web order</th>\n",
       "      <th>Gender=male</th>\n",
       "      <th>Address_is_res</th>\n",
       "      <th>Purchase</th>\n",
       "      <th>Spending</th>\n",
       "    </tr>\n",
       "  </thead>\n",
       "  <tbody>\n",
       "    <tr>\n",
       "      <th>0</th>\n",
       "      <td>1</td>\n",
       "      <td>1</td>\n",
       "      <td>0</td>\n",
       "      <td>0</td>\n",
       "      <td>1</td>\n",
       "      <td>0</td>\n",
       "      <td>0</td>\n",
       "      <td>0</td>\n",
       "      <td>0</td>\n",
       "      <td>0</td>\n",
       "      <td>...</td>\n",
       "      <td>0</td>\n",
       "      <td>0</td>\n",
       "      <td>2</td>\n",
       "      <td>3662</td>\n",
       "      <td>3662</td>\n",
       "      <td>1</td>\n",
       "      <td>0</td>\n",
       "      <td>1</td>\n",
       "      <td>1</td>\n",
       "      <td>128</td>\n",
       "    </tr>\n",
       "    <tr>\n",
       "      <th>1</th>\n",
       "      <td>2</td>\n",
       "      <td>1</td>\n",
       "      <td>0</td>\n",
       "      <td>0</td>\n",
       "      <td>0</td>\n",
       "      <td>0</td>\n",
       "      <td>1</td>\n",
       "      <td>0</td>\n",
       "      <td>0</td>\n",
       "      <td>0</td>\n",
       "      <td>...</td>\n",
       "      <td>0</td>\n",
       "      <td>0</td>\n",
       "      <td>0</td>\n",
       "      <td>2900</td>\n",
       "      <td>2900</td>\n",
       "      <td>1</td>\n",
       "      <td>1</td>\n",
       "      <td>0</td>\n",
       "      <td>0</td>\n",
       "      <td>0</td>\n",
       "    </tr>\n",
       "    <tr>\n",
       "      <th>2</th>\n",
       "      <td>3</td>\n",
       "      <td>1</td>\n",
       "      <td>0</td>\n",
       "      <td>0</td>\n",
       "      <td>0</td>\n",
       "      <td>0</td>\n",
       "      <td>0</td>\n",
       "      <td>0</td>\n",
       "      <td>0</td>\n",
       "      <td>0</td>\n",
       "      <td>...</td>\n",
       "      <td>0</td>\n",
       "      <td>0</td>\n",
       "      <td>2</td>\n",
       "      <td>3883</td>\n",
       "      <td>3914</td>\n",
       "      <td>0</td>\n",
       "      <td>0</td>\n",
       "      <td>0</td>\n",
       "      <td>1</td>\n",
       "      <td>127</td>\n",
       "    </tr>\n",
       "    <tr>\n",
       "      <th>3</th>\n",
       "      <td>4</td>\n",
       "      <td>1</td>\n",
       "      <td>0</td>\n",
       "      <td>1</td>\n",
       "      <td>0</td>\n",
       "      <td>0</td>\n",
       "      <td>0</td>\n",
       "      <td>0</td>\n",
       "      <td>0</td>\n",
       "      <td>0</td>\n",
       "      <td>...</td>\n",
       "      <td>0</td>\n",
       "      <td>0</td>\n",
       "      <td>1</td>\n",
       "      <td>829</td>\n",
       "      <td>829</td>\n",
       "      <td>0</td>\n",
       "      <td>1</td>\n",
       "      <td>0</td>\n",
       "      <td>0</td>\n",
       "      <td>0</td>\n",
       "    </tr>\n",
       "    <tr>\n",
       "      <th>4</th>\n",
       "      <td>5</td>\n",
       "      <td>1</td>\n",
       "      <td>0</td>\n",
       "      <td>1</td>\n",
       "      <td>0</td>\n",
       "      <td>0</td>\n",
       "      <td>0</td>\n",
       "      <td>0</td>\n",
       "      <td>0</td>\n",
       "      <td>0</td>\n",
       "      <td>...</td>\n",
       "      <td>0</td>\n",
       "      <td>0</td>\n",
       "      <td>1</td>\n",
       "      <td>869</td>\n",
       "      <td>869</td>\n",
       "      <td>0</td>\n",
       "      <td>0</td>\n",
       "      <td>0</td>\n",
       "      <td>0</td>\n",
       "      <td>0</td>\n",
       "    </tr>\n",
       "  </tbody>\n",
       "</table>\n",
       "<p>5 rows × 25 columns</p>\n",
       "</div>"
      ],
      "text/plain": [
       "   sequence_number  US  source_a  source_c  source_b  source_d  source_e  \\\n",
       "0                1   1         0         0         1         0         0   \n",
       "1                2   1         0         0         0         0         1   \n",
       "2                3   1         0         0         0         0         0   \n",
       "3                4   1         0         1         0         0         0   \n",
       "4                5   1         0         1         0         0         0   \n",
       "\n",
       "   source_m  source_o  source_h  ...  source_x  source_w  Freq  \\\n",
       "0         0         0         0  ...         0         0     2   \n",
       "1         0         0         0  ...         0         0     0   \n",
       "2         0         0         0  ...         0         0     2   \n",
       "3         0         0         0  ...         0         0     1   \n",
       "4         0         0         0  ...         0         0     1   \n",
       "\n",
       "   last_update_days_ago  1st_update_days_ago  Web order  Gender=male  \\\n",
       "0                  3662                 3662          1            0   \n",
       "1                  2900                 2900          1            1   \n",
       "2                  3883                 3914          0            0   \n",
       "3                   829                  829          0            1   \n",
       "4                   869                  869          0            0   \n",
       "\n",
       "   Address_is_res  Purchase  Spending  \n",
       "0               1         1       128  \n",
       "1               0         0         0  \n",
       "2               0         1       127  \n",
       "3               0         0         0  \n",
       "4               0         0         0  \n",
       "\n",
       "[5 rows x 25 columns]"
      ]
     },
     "execution_count": 23,
     "metadata": {},
     "output_type": "execute_result"
    }
   ],
   "source": [
    "df=pd.read_csv('Tayko.csv')\n",
    "\n",
    "# Basic information\n",
    "print(\"Shape of dataset:\", df.shape)\n",
    "print(\"\\nData types:\\n\", df.dtypes)\n",
    "df.head()"
   ]
  },
  {
   "cell_type": "code",
   "execution_count": 24,
   "id": "8a6e82f1",
   "metadata": {},
   "outputs": [
    {
     "data": {
      "application/vnd.microsoft.datawrangler.viewer.v0+json": {
       "columns": [
        {
         "name": "index",
         "rawType": "object",
         "type": "string"
        },
        {
         "name": "sequence_number",
         "rawType": "float64",
         "type": "float"
        },
        {
         "name": "US",
         "rawType": "float64",
         "type": "float"
        },
        {
         "name": "source_a",
         "rawType": "float64",
         "type": "float"
        },
        {
         "name": "source_c",
         "rawType": "float64",
         "type": "float"
        },
        {
         "name": "source_b",
         "rawType": "float64",
         "type": "float"
        },
        {
         "name": "source_d",
         "rawType": "float64",
         "type": "float"
        },
        {
         "name": "source_e",
         "rawType": "float64",
         "type": "float"
        },
        {
         "name": "source_m",
         "rawType": "float64",
         "type": "float"
        },
        {
         "name": "source_o",
         "rawType": "float64",
         "type": "float"
        },
        {
         "name": "source_h",
         "rawType": "float64",
         "type": "float"
        },
        {
         "name": "source_r",
         "rawType": "float64",
         "type": "float"
        },
        {
         "name": "source_s",
         "rawType": "float64",
         "type": "float"
        },
        {
         "name": "source_t",
         "rawType": "float64",
         "type": "float"
        },
        {
         "name": "source_u",
         "rawType": "float64",
         "type": "float"
        },
        {
         "name": "source_p",
         "rawType": "float64",
         "type": "float"
        },
        {
         "name": "source_x",
         "rawType": "float64",
         "type": "float"
        },
        {
         "name": "source_w",
         "rawType": "float64",
         "type": "float"
        },
        {
         "name": "Freq",
         "rawType": "float64",
         "type": "float"
        },
        {
         "name": "last_update_days_ago",
         "rawType": "float64",
         "type": "float"
        },
        {
         "name": "1st_update_days_ago",
         "rawType": "float64",
         "type": "float"
        },
        {
         "name": "Web order",
         "rawType": "float64",
         "type": "float"
        },
        {
         "name": "Gender=male",
         "rawType": "float64",
         "type": "float"
        },
        {
         "name": "Address_is_res",
         "rawType": "float64",
         "type": "float"
        },
        {
         "name": "Purchase",
         "rawType": "float64",
         "type": "float"
        },
        {
         "name": "Spending",
         "rawType": "float64",
         "type": "float"
        }
       ],
       "ref": "aa510c09-ed72-48a8-a028-d01e43e71974",
       "rows": [
        [
         "count",
         "2000.0",
         "2000.0",
         "2000.0",
         "2000.0",
         "2000.0",
         "2000.0",
         "2000.0",
         "2000.0",
         "2000.0",
         "2000.0",
         "2000.0",
         "2000.0",
         "2000.0",
         "2000.0",
         "2000.0",
         "2000.0",
         "2000.0",
         "2000.0",
         "2000.0",
         "2000.0",
         "2000.0",
         "2000.0",
         "2000.0",
         "2000.0",
         "2000.0"
        ],
        [
         "mean",
         "1000.5",
         "0.8245",
         "0.1265",
         "0.056",
         "0.06",
         "0.0415",
         "0.151",
         "0.0165",
         "0.0335",
         "0.0525",
         "0.0685",
         "0.047",
         "0.0215",
         "0.119",
         "0.006",
         "0.018",
         "0.1375",
         "1.417",
         "2155.101",
         "2435.6015",
         "0.426",
         "0.5245",
         "0.221",
         "0.5",
         "102.625"
        ],
        [
         "std",
         "577.4945887192364",
         "0.3804893376535458",
         "0.33249515261617973",
         "0.22997922780679847",
         "0.23754623572486588",
         "0.19949348065641698",
         "0.3581384251456172",
         "0.12742004525963324",
         "0.17998318525208612",
         "0.22308884848229996",
         "0.25266513379355976",
         "0.21169177287592372",
         "0.14508023344711204",
         "0.3238694887186217",
         "0.07724625228285106",
         "0.13298436908603434",
         "0.3444605587556711",
         "1.4057379021441951",
         "1141.302846264937",
         "1077.8722326754394",
         "0.4946173502431762",
         "0.4995242859522729",
         "0.4150242433416157",
         "0.5001250468945398",
         "186.7826095936753"
        ],
        [
         "min",
         "1.0",
         "0.0",
         "0.0",
         "0.0",
         "0.0",
         "0.0",
         "0.0",
         "0.0",
         "0.0",
         "0.0",
         "0.0",
         "0.0",
         "0.0",
         "0.0",
         "0.0",
         "0.0",
         "0.0",
         "0.0",
         "1.0",
         "1.0",
         "0.0",
         "0.0",
         "0.0",
         "0.0",
         "0.0"
        ],
        [
         "25%",
         "500.75",
         "1.0",
         "0.0",
         "0.0",
         "0.0",
         "0.0",
         "0.0",
         "0.0",
         "0.0",
         "0.0",
         "0.0",
         "0.0",
         "0.0",
         "0.0",
         "0.0",
         "0.0",
         "0.0",
         "1.0",
         "1133.0",
         "1671.25",
         "0.0",
         "0.0",
         "0.0",
         "0.0",
         "0.0"
        ],
        [
         "50%",
         "1000.5",
         "1.0",
         "0.0",
         "0.0",
         "0.0",
         "0.0",
         "0.0",
         "0.0",
         "0.0",
         "0.0",
         "0.0",
         "0.0",
         "0.0",
         "0.0",
         "0.0",
         "0.0",
         "0.0",
         "1.0",
         "2280.0",
         "2721.0",
         "0.0",
         "1.0",
         "0.0",
         "0.5",
         "2.0"
        ],
        [
         "75%",
         "1500.25",
         "1.0",
         "0.0",
         "0.0",
         "0.0",
         "0.0",
         "0.0",
         "0.0",
         "0.0",
         "0.0",
         "0.0",
         "0.0",
         "0.0",
         "0.0",
         "0.0",
         "0.0",
         "0.0",
         "2.0",
         "3139.25",
         "3353.0",
         "1.0",
         "1.0",
         "0.0",
         "1.0",
         "153.0"
        ],
        [
         "max",
         "2000.0",
         "1.0",
         "1.0",
         "1.0",
         "1.0",
         "1.0",
         "1.0",
         "1.0",
         "1.0",
         "1.0",
         "1.0",
         "1.0",
         "1.0",
         "1.0",
         "1.0",
         "1.0",
         "1.0",
         "15.0",
         "4188.0",
         "4188.0",
         "1.0",
         "1.0",
         "1.0",
         "1.0",
         "1500.0"
        ]
       ],
       "shape": {
        "columns": 25,
        "rows": 8
       }
      },
      "text/html": [
       "<div>\n",
       "<style scoped>\n",
       "    .dataframe tbody tr th:only-of-type {\n",
       "        vertical-align: middle;\n",
       "    }\n",
       "\n",
       "    .dataframe tbody tr th {\n",
       "        vertical-align: top;\n",
       "    }\n",
       "\n",
       "    .dataframe thead th {\n",
       "        text-align: right;\n",
       "    }\n",
       "</style>\n",
       "<table border=\"1\" class=\"dataframe\">\n",
       "  <thead>\n",
       "    <tr style=\"text-align: right;\">\n",
       "      <th></th>\n",
       "      <th>sequence_number</th>\n",
       "      <th>US</th>\n",
       "      <th>source_a</th>\n",
       "      <th>source_c</th>\n",
       "      <th>source_b</th>\n",
       "      <th>source_d</th>\n",
       "      <th>source_e</th>\n",
       "      <th>source_m</th>\n",
       "      <th>source_o</th>\n",
       "      <th>source_h</th>\n",
       "      <th>...</th>\n",
       "      <th>source_x</th>\n",
       "      <th>source_w</th>\n",
       "      <th>Freq</th>\n",
       "      <th>last_update_days_ago</th>\n",
       "      <th>1st_update_days_ago</th>\n",
       "      <th>Web order</th>\n",
       "      <th>Gender=male</th>\n",
       "      <th>Address_is_res</th>\n",
       "      <th>Purchase</th>\n",
       "      <th>Spending</th>\n",
       "    </tr>\n",
       "  </thead>\n",
       "  <tbody>\n",
       "    <tr>\n",
       "      <th>count</th>\n",
       "      <td>2000.000000</td>\n",
       "      <td>2000.000000</td>\n",
       "      <td>2000.000000</td>\n",
       "      <td>2000.000000</td>\n",
       "      <td>2000.000000</td>\n",
       "      <td>2000.000000</td>\n",
       "      <td>2000.000000</td>\n",
       "      <td>2000.00000</td>\n",
       "      <td>2000.000000</td>\n",
       "      <td>2000.000000</td>\n",
       "      <td>...</td>\n",
       "      <td>2000.000000</td>\n",
       "      <td>2000.000000</td>\n",
       "      <td>2000.000000</td>\n",
       "      <td>2000.000000</td>\n",
       "      <td>2000.000000</td>\n",
       "      <td>2000.000000</td>\n",
       "      <td>2000.000000</td>\n",
       "      <td>2000.000000</td>\n",
       "      <td>2000.000000</td>\n",
       "      <td>2000.00000</td>\n",
       "    </tr>\n",
       "    <tr>\n",
       "      <th>mean</th>\n",
       "      <td>1000.500000</td>\n",
       "      <td>0.824500</td>\n",
       "      <td>0.126500</td>\n",
       "      <td>0.056000</td>\n",
       "      <td>0.060000</td>\n",
       "      <td>0.041500</td>\n",
       "      <td>0.151000</td>\n",
       "      <td>0.01650</td>\n",
       "      <td>0.033500</td>\n",
       "      <td>0.052500</td>\n",
       "      <td>...</td>\n",
       "      <td>0.018000</td>\n",
       "      <td>0.137500</td>\n",
       "      <td>1.417000</td>\n",
       "      <td>2155.101000</td>\n",
       "      <td>2435.601500</td>\n",
       "      <td>0.426000</td>\n",
       "      <td>0.524500</td>\n",
       "      <td>0.221000</td>\n",
       "      <td>0.500000</td>\n",
       "      <td>102.62500</td>\n",
       "    </tr>\n",
       "    <tr>\n",
       "      <th>std</th>\n",
       "      <td>577.494589</td>\n",
       "      <td>0.380489</td>\n",
       "      <td>0.332495</td>\n",
       "      <td>0.229979</td>\n",
       "      <td>0.237546</td>\n",
       "      <td>0.199493</td>\n",
       "      <td>0.358138</td>\n",
       "      <td>0.12742</td>\n",
       "      <td>0.179983</td>\n",
       "      <td>0.223089</td>\n",
       "      <td>...</td>\n",
       "      <td>0.132984</td>\n",
       "      <td>0.344461</td>\n",
       "      <td>1.405738</td>\n",
       "      <td>1141.302846</td>\n",
       "      <td>1077.872233</td>\n",
       "      <td>0.494617</td>\n",
       "      <td>0.499524</td>\n",
       "      <td>0.415024</td>\n",
       "      <td>0.500125</td>\n",
       "      <td>186.78261</td>\n",
       "    </tr>\n",
       "    <tr>\n",
       "      <th>min</th>\n",
       "      <td>1.000000</td>\n",
       "      <td>0.000000</td>\n",
       "      <td>0.000000</td>\n",
       "      <td>0.000000</td>\n",
       "      <td>0.000000</td>\n",
       "      <td>0.000000</td>\n",
       "      <td>0.000000</td>\n",
       "      <td>0.00000</td>\n",
       "      <td>0.000000</td>\n",
       "      <td>0.000000</td>\n",
       "      <td>...</td>\n",
       "      <td>0.000000</td>\n",
       "      <td>0.000000</td>\n",
       "      <td>0.000000</td>\n",
       "      <td>1.000000</td>\n",
       "      <td>1.000000</td>\n",
       "      <td>0.000000</td>\n",
       "      <td>0.000000</td>\n",
       "      <td>0.000000</td>\n",
       "      <td>0.000000</td>\n",
       "      <td>0.00000</td>\n",
       "    </tr>\n",
       "    <tr>\n",
       "      <th>25%</th>\n",
       "      <td>500.750000</td>\n",
       "      <td>1.000000</td>\n",
       "      <td>0.000000</td>\n",
       "      <td>0.000000</td>\n",
       "      <td>0.000000</td>\n",
       "      <td>0.000000</td>\n",
       "      <td>0.000000</td>\n",
       "      <td>0.00000</td>\n",
       "      <td>0.000000</td>\n",
       "      <td>0.000000</td>\n",
       "      <td>...</td>\n",
       "      <td>0.000000</td>\n",
       "      <td>0.000000</td>\n",
       "      <td>1.000000</td>\n",
       "      <td>1133.000000</td>\n",
       "      <td>1671.250000</td>\n",
       "      <td>0.000000</td>\n",
       "      <td>0.000000</td>\n",
       "      <td>0.000000</td>\n",
       "      <td>0.000000</td>\n",
       "      <td>0.00000</td>\n",
       "    </tr>\n",
       "    <tr>\n",
       "      <th>50%</th>\n",
       "      <td>1000.500000</td>\n",
       "      <td>1.000000</td>\n",
       "      <td>0.000000</td>\n",
       "      <td>0.000000</td>\n",
       "      <td>0.000000</td>\n",
       "      <td>0.000000</td>\n",
       "      <td>0.000000</td>\n",
       "      <td>0.00000</td>\n",
       "      <td>0.000000</td>\n",
       "      <td>0.000000</td>\n",
       "      <td>...</td>\n",
       "      <td>0.000000</td>\n",
       "      <td>0.000000</td>\n",
       "      <td>1.000000</td>\n",
       "      <td>2280.000000</td>\n",
       "      <td>2721.000000</td>\n",
       "      <td>0.000000</td>\n",
       "      <td>1.000000</td>\n",
       "      <td>0.000000</td>\n",
       "      <td>0.500000</td>\n",
       "      <td>2.00000</td>\n",
       "    </tr>\n",
       "    <tr>\n",
       "      <th>75%</th>\n",
       "      <td>1500.250000</td>\n",
       "      <td>1.000000</td>\n",
       "      <td>0.000000</td>\n",
       "      <td>0.000000</td>\n",
       "      <td>0.000000</td>\n",
       "      <td>0.000000</td>\n",
       "      <td>0.000000</td>\n",
       "      <td>0.00000</td>\n",
       "      <td>0.000000</td>\n",
       "      <td>0.000000</td>\n",
       "      <td>...</td>\n",
       "      <td>0.000000</td>\n",
       "      <td>0.000000</td>\n",
       "      <td>2.000000</td>\n",
       "      <td>3139.250000</td>\n",
       "      <td>3353.000000</td>\n",
       "      <td>1.000000</td>\n",
       "      <td>1.000000</td>\n",
       "      <td>0.000000</td>\n",
       "      <td>1.000000</td>\n",
       "      <td>153.00000</td>\n",
       "    </tr>\n",
       "    <tr>\n",
       "      <th>max</th>\n",
       "      <td>2000.000000</td>\n",
       "      <td>1.000000</td>\n",
       "      <td>1.000000</td>\n",
       "      <td>1.000000</td>\n",
       "      <td>1.000000</td>\n",
       "      <td>1.000000</td>\n",
       "      <td>1.000000</td>\n",
       "      <td>1.00000</td>\n",
       "      <td>1.000000</td>\n",
       "      <td>1.000000</td>\n",
       "      <td>...</td>\n",
       "      <td>1.000000</td>\n",
       "      <td>1.000000</td>\n",
       "      <td>15.000000</td>\n",
       "      <td>4188.000000</td>\n",
       "      <td>4188.000000</td>\n",
       "      <td>1.000000</td>\n",
       "      <td>1.000000</td>\n",
       "      <td>1.000000</td>\n",
       "      <td>1.000000</td>\n",
       "      <td>1500.00000</td>\n",
       "    </tr>\n",
       "  </tbody>\n",
       "</table>\n",
       "<p>8 rows × 25 columns</p>\n",
       "</div>"
      ],
      "text/plain": [
       "       sequence_number           US     source_a     source_c     source_b  \\\n",
       "count      2000.000000  2000.000000  2000.000000  2000.000000  2000.000000   \n",
       "mean       1000.500000     0.824500     0.126500     0.056000     0.060000   \n",
       "std         577.494589     0.380489     0.332495     0.229979     0.237546   \n",
       "min           1.000000     0.000000     0.000000     0.000000     0.000000   \n",
       "25%         500.750000     1.000000     0.000000     0.000000     0.000000   \n",
       "50%        1000.500000     1.000000     0.000000     0.000000     0.000000   \n",
       "75%        1500.250000     1.000000     0.000000     0.000000     0.000000   \n",
       "max        2000.000000     1.000000     1.000000     1.000000     1.000000   \n",
       "\n",
       "          source_d     source_e    source_m     source_o     source_h  ...  \\\n",
       "count  2000.000000  2000.000000  2000.00000  2000.000000  2000.000000  ...   \n",
       "mean      0.041500     0.151000     0.01650     0.033500     0.052500  ...   \n",
       "std       0.199493     0.358138     0.12742     0.179983     0.223089  ...   \n",
       "min       0.000000     0.000000     0.00000     0.000000     0.000000  ...   \n",
       "25%       0.000000     0.000000     0.00000     0.000000     0.000000  ...   \n",
       "50%       0.000000     0.000000     0.00000     0.000000     0.000000  ...   \n",
       "75%       0.000000     0.000000     0.00000     0.000000     0.000000  ...   \n",
       "max       1.000000     1.000000     1.00000     1.000000     1.000000  ...   \n",
       "\n",
       "          source_x     source_w         Freq  last_update_days_ago  \\\n",
       "count  2000.000000  2000.000000  2000.000000           2000.000000   \n",
       "mean      0.018000     0.137500     1.417000           2155.101000   \n",
       "std       0.132984     0.344461     1.405738           1141.302846   \n",
       "min       0.000000     0.000000     0.000000              1.000000   \n",
       "25%       0.000000     0.000000     1.000000           1133.000000   \n",
       "50%       0.000000     0.000000     1.000000           2280.000000   \n",
       "75%       0.000000     0.000000     2.000000           3139.250000   \n",
       "max       1.000000     1.000000    15.000000           4188.000000   \n",
       "\n",
       "       1st_update_days_ago    Web order  Gender=male  Address_is_res  \\\n",
       "count          2000.000000  2000.000000  2000.000000     2000.000000   \n",
       "mean           2435.601500     0.426000     0.524500        0.221000   \n",
       "std            1077.872233     0.494617     0.499524        0.415024   \n",
       "min               1.000000     0.000000     0.000000        0.000000   \n",
       "25%            1671.250000     0.000000     0.000000        0.000000   \n",
       "50%            2721.000000     0.000000     1.000000        0.000000   \n",
       "75%            3353.000000     1.000000     1.000000        0.000000   \n",
       "max            4188.000000     1.000000     1.000000        1.000000   \n",
       "\n",
       "          Purchase    Spending  \n",
       "count  2000.000000  2000.00000  \n",
       "mean      0.500000   102.62500  \n",
       "std       0.500125   186.78261  \n",
       "min       0.000000     0.00000  \n",
       "25%       0.000000     0.00000  \n",
       "50%       0.500000     2.00000  \n",
       "75%       1.000000   153.00000  \n",
       "max       1.000000  1500.00000  \n",
       "\n",
       "[8 rows x 25 columns]"
      ]
     },
     "execution_count": 24,
     "metadata": {},
     "output_type": "execute_result"
    }
   ],
   "source": [
    "df.describe()"
   ]
  },
  {
   "cell_type": "code",
   "execution_count": 25,
   "id": "71da1fae",
   "metadata": {},
   "outputs": [
    {
     "data": {
      "text/plain": [
       "Index(['sequence_number', 'US', 'source_a', 'source_c', 'source_b', 'source_d',\n",
       "       'source_e', 'source_m', 'source_o', 'source_h', 'source_r', 'source_s',\n",
       "       'source_t', 'source_u', 'source_p', 'source_x', 'source_w', 'Freq',\n",
       "       'last_update_days_ago', '1st_update_days_ago', 'Web order',\n",
       "       'Gender=male', 'Address_is_res', 'Purchase', 'Spending'],\n",
       "      dtype='object')"
      ]
     },
     "metadata": {},
     "output_type": "display_data"
    }
   ],
   "source": [
    "display(df.columns)"
   ]
  },
  {
   "cell_type": "code",
   "execution_count": 26,
   "id": "03e862f6",
   "metadata": {},
   "outputs": [
    {
     "data": {
      "application/vnd.microsoft.datawrangler.viewer.v0+json": {
       "columns": [
        {
         "name": "index",
         "rawType": "object",
         "type": "string"
        },
        {
         "name": "0",
         "rawType": "int64",
         "type": "integer"
        }
       ],
       "ref": "9f69560e-4383-4adc-8596-2559c5ee2dee",
       "rows": [
        [
         "sequence_number",
         "0"
        ],
        [
         "US",
         "0"
        ],
        [
         "source_a",
         "0"
        ],
        [
         "source_c",
         "0"
        ],
        [
         "source_b",
         "0"
        ],
        [
         "source_d",
         "0"
        ],
        [
         "source_e",
         "0"
        ],
        [
         "source_m",
         "0"
        ],
        [
         "source_o",
         "0"
        ],
        [
         "source_h",
         "0"
        ],
        [
         "source_r",
         "0"
        ],
        [
         "source_s",
         "0"
        ],
        [
         "source_t",
         "0"
        ],
        [
         "source_u",
         "0"
        ],
        [
         "source_p",
         "0"
        ],
        [
         "source_x",
         "0"
        ],
        [
         "source_w",
         "0"
        ],
        [
         "Freq",
         "0"
        ],
        [
         "last_update_days_ago",
         "0"
        ],
        [
         "1st_update_days_ago",
         "0"
        ],
        [
         "Web order",
         "0"
        ],
        [
         "Gender=male",
         "0"
        ],
        [
         "Address_is_res",
         "0"
        ],
        [
         "Purchase",
         "0"
        ],
        [
         "Spending",
         "0"
        ]
       ],
       "shape": {
        "columns": 1,
        "rows": 25
       }
      },
      "text/plain": [
       "sequence_number         0\n",
       "US                      0\n",
       "source_a                0\n",
       "source_c                0\n",
       "source_b                0\n",
       "source_d                0\n",
       "source_e                0\n",
       "source_m                0\n",
       "source_o                0\n",
       "source_h                0\n",
       "source_r                0\n",
       "source_s                0\n",
       "source_t                0\n",
       "source_u                0\n",
       "source_p                0\n",
       "source_x                0\n",
       "source_w                0\n",
       "Freq                    0\n",
       "last_update_days_ago    0\n",
       "1st_update_days_ago     0\n",
       "Web order               0\n",
       "Gender=male             0\n",
       "Address_is_res          0\n",
       "Purchase                0\n",
       "Spending                0\n",
       "dtype: int64"
      ]
     },
     "execution_count": 26,
     "metadata": {},
     "output_type": "execute_result"
    }
   ],
   "source": [
    "df.isnull().sum() # Check for missing values"
   ]
  },
  {
   "cell_type": "markdown",
   "id": "2c86e054",
   "metadata": {},
   "source": [
    "## 1. Gross Profit = Expect Revenue - Mailing Cost"
   ]
  },
  {
   "cell_type": "code",
   "execution_count": null,
   "id": "b11b7581",
   "metadata": {},
   "outputs": [
    {
     "name": "stdout",
     "output_type": "stream",
     "text": [
      "Average spending per person: 102.625\n",
      "Expected revenue: 18472500.0\n",
      "mailing cost: 360000\n",
      "Gross profit: 18112500.0\n"
     ]
    }
   ],
   "source": [
    "# 1. Computer the average spending perv person in the test mailing (Including purchase and non purchased, non purchaser spent = 0)\n",
    "ave_spending = df['Spending'].mean()\n",
    "\n",
    "# 2. Get the total revunue which is the answer multiply 180,000\n",
    "\n",
    "expected_revenue = ave_spending * 180_000\n",
    "mailing_cost = 180_000 * 2\n",
    "\n",
    "\n",
    "# 3. Substract the mailing cost: 180,000 x 2 =$360,000\n",
    "gross_profit = expected_revenue - mailing_cost\n",
    "\n",
    "print('Average spending per person:', ave_spending)\n",
    "print('Expected revenue:', expected_revenue)\n",
    "print('mailing cost:', mailing_cost)\n",
    "print('Gross profit:', gross_profit)\n"
   ]
  },
  {
   "cell_type": "code",
   "execution_count": 28,
   "id": "3add1507",
   "metadata": {},
   "outputs": [
    {
     "data": {
      "application/vnd.microsoft.datawrangler.viewer.v0+json": {
       "columns": [
        {
         "name": "US",
         "rawType": "int64",
         "type": "integer"
        },
        {
         "name": "count",
         "rawType": "int64",
         "type": "integer"
        }
       ],
       "ref": "a3ac5c1d-e1d3-4560-8077-7a7aeceee618",
       "rows": [
        [
         "1",
         "1649"
        ],
        [
         "0",
         "351"
        ]
       ],
       "shape": {
        "columns": 1,
        "rows": 2
       }
      },
      "text/plain": [
       "US\n",
       "1    1649\n",
       "0     351\n",
       "Name: count, dtype: int64"
      ]
     },
     "execution_count": 28,
     "metadata": {},
     "output_type": "execute_result"
    }
   ],
   "source": [
    "df[\"US\"].value_counts()"
   ]
  },
  {
   "cell_type": "markdown",
   "id": "9ebced19",
   "metadata": {},
   "source": []
  },
  {
   "cell_type": "code",
   "execution_count": 34,
   "id": "fef2fa03",
   "metadata": {},
   "outputs": [
    {
     "data": {
      "image/png": "[encoded data removed]",
      "text/plain": [
       "<Figure size 1200x800 with 2 Axes>"
      ]
     },
     "metadata": {},
     "output_type": "display_data"
    }
   ],
   "source": [
    "corr = df.corr(numeric_only=True)\n",
    "\n",
    "# Upper Triangle plot\n",
    "mask = np.triu(np.ones_like(corr, dtype=bool))\n",
    "\n",
    "plt.figure(figsize=(12,8))\n",
    "sns.heatmap(corr, mask=mask, cmap=\"coolwarm\", annot=True, \n",
    "            annot_kws={\"size\": 8}, fmt=\".2f\", linewidths=0.5)\n",
    "plt.xticks(rotation=90)\n",
    "plt.title(\"Correlation Heatmap\")\n",
    "plt.show()"
   ]
  },
  {
   "cell_type": "markdown",
   "id": "67a6bce0",
   "metadata": {},
   "source": [
    "## 2. Logistic regression Modeling (Model for classifying a customer as a purchaser or nonpurchaser)"
   ]
  },
  {
   "cell_type": "markdown",
   "id": "2ebf2867",
   "metadata": {},
   "source": [
    "### 2.1 "
   ]
  },
  {
   "cell_type": "code",
   "execution_count": null,
   "id": "69e2b34f",
   "metadata": {},
   "outputs": [],
   "source": [
    "predictors = ['']\n",
    "\n",
    "\n",
    "X = pd.\n",
    "train_X, valid_X, train_y, valid_y"
   ]
  },
  {
   "cell_type": "markdown",
   "id": "6254b1f1",
   "metadata": {},
   "source": [
    "### 2.2"
   ]
  },
  {
   "cell_type": "code",
   "execution_count": null,
   "id": "0c2e3c2b",
   "metadata": {},
   "outputs": [],
   "source": []
  },
  {
   "cell_type": "markdown",
   "id": "e9152682",
   "metadata": {},
   "source": [
    "## 3. Models for predicting *spending * among the purchasers"
   ]
  },
  {
   "cell_type": "markdown",
   "id": "45c4e83a",
   "metadata": {},
   "source": [
    "### 3.1 Multiple linear regression"
   ]
  },
  {
   "cell_type": "markdown",
   "id": "425e83ff",
   "metadata": {},
   "source": [
    "### 3.2 Regression trees"
   ]
  },
  {
   "cell_type": "markdown",
   "id": "b7ef4fb4",
   "metadata": {},
   "source": [
    "### 3.3 choose one model and explain"
   ]
  },
  {
   "cell_type": "markdown",
   "id": "85f48f41",
   "metadata": {},
   "source": [
    "## 4. "
   ]
  },
  {
   "cell_type": "markdown",
   "id": "e8de8a38",
   "metadata": {},
   "source": [
    "### 4.1 add a column - Logistic regression"
   ]
  },
  {
   "cell_type": "markdown",
   "id": "af23afed",
   "metadata": {},
   "source": [
    "### 4.2 add another column - predict spending amount from he prediction model chosen"
   ]
  },
  {
   "cell_type": "markdown",
   "id": "b11e05c4",
   "metadata": {},
   "source": [
    "### 4.3 skip"
   ]
  },
  {
   "cell_type": "markdown",
   "id": "76d96260",
   "metadata": {},
   "source": [
    "### 4.4 add a column for expected spending "
   ]
  },
  {
   "cell_type": "markdown",
   "id": "0023339a",
   "metadata": {},
   "source": [
    "### 4.5 plot cumulative gains chart of the expected spending"
   ]
  },
  {
   "cell_type": "markdown",
   "id": "a6eee1f8",
   "metadata": {},
   "source": [
    "### 4.6 using this cumulative gai9ns curve (not directly), estimate the gross profit - based on the model."
   ]
  }
 ],
 "metadata": {
  "kernelspec": {
   "display_name": "base",
   "language": "python",
   "name": "python3"
  },
  "language_info": {
   "codemirror_mode": {
    "name": "ipython",
    "version": 3
   },
   "file_extension": ".py",
   "mimetype": "text/x-python",
   "name": "python",
   "nbconvert_exporter": "python",
   "pygments_lexer": "ipython3",
   "version": "3.12.7"
  }
 },
 "nbformat": 4,
 "nbformat_minor": 5
}
