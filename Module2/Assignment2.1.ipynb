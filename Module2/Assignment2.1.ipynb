{
 "cells": [
  {
   "cell_type": "markdown",
   "id": "4bb162c4",
   "metadata": {},
   "source": [
    "# Assignment 2.1 Use Case - Tayko Software Cataloger"
   ]
  },
  {
   "cell_type": "code",
   "execution_count": null,
   "id": "8a6e9697",
   "metadata": {},
   "outputs": [],
   "source": [
    "import pandas as pd\n",
    "\n",
    "from sklearn.model_selection import train_test_split\n",
    "from sklearn.linear_model import LinearRegression\n",
    "import matplotlib.pylab as plt\n",
    "\n",
    "import dmba\n",
    "from dmba import regressionSummary\n",
    "from dmba import adjusted_r2_score, AIC_score, BIC_score\n",
    "\n",
    "%matplotlib inline"
   ]
  },
  {
   "cell_type": "markdown",
   "id": "c921a972",
   "metadata": {},
   "source": [
    "This case study examines how Tayko, a software catalog firm that sells games and educational software, prepared to launch a revised collection of items in a new catalog mailing. Tayko began as a software manufacturer and later expanded its offerings to include third-party titles, making its customer list a valuable asset. Because mailing is costly and most recipients are unlikely to purchase, the objective is to minimize wasted expenses by identifying customers with a higher probability of responding. In this analysis, logistic regression, multiple linear regression, and regression trees are applied to recommend which customers should receive the catalog and to estimate their expected spending, with the goal of optimizing the mailing campaign and improving gross profits.\n"
   ]
  }
 ],
 "metadata": {
  "kernelspec": {
   "display_name": "base",
   "language": "python",
   "name": "python3"
  },
  "language_info": {
   "name": "python",
   "version": "3.12.7"
  }
 },
 "nbformat": 4,
 "nbformat_minor": 5
}
