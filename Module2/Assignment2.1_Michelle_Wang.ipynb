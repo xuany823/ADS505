{
 "cells": [
  {
   "cell_type": "markdown",
   "id": "4bb162c4",
   "metadata": {},
   "source": [
    "# Assignment 2.1 Use Case - Tayko Software Cataloger"
   ]
  },
  {
   "cell_type": "code",
   "execution_count": 394,
   "id": "8a6e9697",
   "metadata": {},
   "outputs": [],
   "source": [
    "import pandas as pd\n",
    "import numpy as np\n",
    "import matplotlib.pylab as plt\n",
    "import seaborn as sns\n",
    "import dmba\n",
    "\n",
    "from sklearn.model_selection import train_test_split\n",
    "from sklearn.linear_model import LogisticRegression, LogisticRegressionCV\n",
    "from sklearn.metrics import accuracy_score, roc_auc_score, confusion_matrix, classification_report\n",
    "from sklearn.pipeline import Pipeline\n",
    "from sklearn.preprocessing import StandardScaler\n",
    "from sklearn.tree import DecisionTreeRegressor\n",
    "from sklearn.linear_model import LinearRegression\n",
    "from sklearn.metrics import mean_squared_error, mean_absolute_error\n",
    "from dmba import backward_elimination, forward_selection, stepwise_selection\n",
    "\n",
    "from dmba import regressionSummary\n",
    "from dmba import adjusted_r2_score, AIC_score, BIC_score\n",
    "from dmba import classificationSummary\n",
    "%matplotlib inline"
   ]
  },
  {
   "cell_type": "markdown",
   "id": "c921a972",
   "metadata": {},
   "source": [
    "Before we start to build predictive models, we first acknowledge that Tayko, a software catalog firm that sells games and educational software, has already conducted a mailing experiment and collected responses from 2,000 customers. This case study examines how the company prepared to launch a revised collection of items in a new catalog mailing and leverages the experimental dataset to model purchasing behavior and spending. The goal is to use these insights to guide Tayko’s future catalog campaigns toward higher efficiency and profitability."
   ]
  },
  {
   "cell_type": "code",
   "execution_count": 395,
   "id": "5317aa39",
   "metadata": {},
   "outputs": [
    {
     "name": "stdout",
     "output_type": "stream",
     "text": [
      "Shape of dataset: (2000, 25)\n",
      "\n",
      "Data types:\n",
      " sequence_number         int64\n",
      "US                      int64\n",
      "source_a                int64\n",
      "source_c                int64\n",
      "source_b                int64\n",
      "source_d                int64\n",
      "source_e                int64\n",
      "source_m                int64\n",
      "source_o                int64\n",
      "source_h                int64\n",
      "source_r                int64\n",
      "source_s                int64\n",
      "source_t                int64\n",
      "source_u                int64\n",
      "source_p                int64\n",
      "source_x                int64\n",
      "source_w                int64\n",
      "Freq                    int64\n",
      "last_update_days_ago    int64\n",
      "1st_update_days_ago     int64\n",
      "Web order               int64\n",
      "Gender=male             int64\n",
      "Address_is_res          int64\n",
      "Purchase                int64\n",
      "Spending                int64\n",
      "dtype: object\n"
     ]
    },
    {
     "data": {
      "application/vnd.microsoft.datawrangler.viewer.v0+json": {
       "columns": [
        {
         "name": "index",
         "rawType": "int64",
         "type": "integer"
        },
        {
         "name": "sequence_number",
         "rawType": "int64",
         "type": "integer"
        },
        {
         "name": "US",
         "rawType": "int64",
         "type": "integer"
        },
        {
         "name": "source_a",
         "rawType": "int64",
         "type": "integer"
        },
        {
         "name": "source_c",
         "rawType": "int64",
         "type": "integer"
        },
        {
         "name": "source_b",
         "rawType": "int64",
         "type": "integer"
        },
        {
         "name": "source_d",
         "rawType": "int64",
         "type": "integer"
        },
        {
         "name": "source_e",
         "rawType": "int64",
         "type": "integer"
        },
        {
         "name": "source_m",
         "rawType": "int64",
         "type": "integer"
        },
        {
         "name": "source_o",
         "rawType": "int64",
         "type": "integer"
        },
        {
         "name": "source_h",
         "rawType": "int64",
         "type": "integer"
        },
        {
         "name": "source_r",
         "rawType": "int64",
         "type": "integer"
        },
        {
         "name": "source_s",
         "rawType": "int64",
         "type": "integer"
        },
        {
         "name": "source_t",
         "rawType": "int64",
         "type": "integer"
        },
        {
         "name": "source_u",
         "rawType": "int64",
         "type": "integer"
        },
        {
         "name": "source_p",
         "rawType": "int64",
         "type": "integer"
        },
        {
         "name": "source_x",
         "rawType": "int64",
         "type": "integer"
        },
        {
         "name": "source_w",
         "rawType": "int64",
         "type": "integer"
        },
        {
         "name": "Freq",
         "rawType": "int64",
         "type": "integer"
        },
        {
         "name": "last_update_days_ago",
         "rawType": "int64",
         "type": "integer"
        },
        {
         "name": "1st_update_days_ago",
         "rawType": "int64",
         "type": "integer"
        },
        {
         "name": "Web order",
         "rawType": "int64",
         "type": "integer"
        },
        {
         "name": "Gender=male",
         "rawType": "int64",
         "type": "integer"
        },
        {
         "name": "Address_is_res",
         "rawType": "int64",
         "type": "integer"
        },
        {
         "name": "Purchase",
         "rawType": "int64",
         "type": "integer"
        },
        {
         "name": "Spending",
         "rawType": "int64",
         "type": "integer"
        }
       ],
       "ref": "8730f8c6-0bae-4c08-86a4-41efa6b02e7a",
       "rows": [
        [
         "0",
         "1",
         "1",
         "0",
         "0",
         "1",
         "0",
         "0",
         "0",
         "0",
         "0",
         "0",
         "0",
         "0",
         "0",
         "0",
         "0",
         "0",
         "2",
         "3662",
         "3662",
         "1",
         "0",
         "1",
         "1",
         "128"
        ],
        [
         "1",
         "2",
         "1",
         "0",
         "0",
         "0",
         "0",
         "1",
         "0",
         "0",
         "0",
         "0",
         "0",
         "0",
         "0",
         "0",
         "0",
         "0",
         "0",
         "2900",
         "2900",
         "1",
         "1",
         "0",
         "0",
         "0"
        ],
        [
         "2",
         "3",
         "1",
         "0",
         "0",
         "0",
         "0",
         "0",
         "0",
         "0",
         "0",
         "0",
         "0",
         "1",
         "0",
         "0",
         "0",
         "0",
         "2",
         "3883",
         "3914",
         "0",
         "0",
         "0",
         "1",
         "127"
        ],
        [
         "3",
         "4",
         "1",
         "0",
         "1",
         "0",
         "0",
         "0",
         "0",
         "0",
         "0",
         "0",
         "0",
         "0",
         "0",
         "0",
         "0",
         "0",
         "1",
         "829",
         "829",
         "0",
         "1",
         "0",
         "0",
         "0"
        ],
        [
         "4",
         "5",
         "1",
         "0",
         "1",
         "0",
         "0",
         "0",
         "0",
         "0",
         "0",
         "0",
         "0",
         "0",
         "0",
         "0",
         "0",
         "0",
         "1",
         "869",
         "869",
         "0",
         "0",
         "0",
         "0",
         "0"
        ]
       ],
       "shape": {
        "columns": 25,
        "rows": 5
       }
      },
      "text/html": [
       "<div>\n",
       "<style scoped>\n",
       "    .dataframe tbody tr th:only-of-type {\n",
       "        vertical-align: middle;\n",
       "    }\n",
       "\n",
       "    .dataframe tbody tr th {\n",
       "        vertical-align: top;\n",
       "    }\n",
       "\n",
       "    .dataframe thead th {\n",
       "        text-align: right;\n",
       "    }\n",
       "</style>\n",
       "<table border=\"1\" class=\"dataframe\">\n",
       "  <thead>\n",
       "    <tr style=\"text-align: right;\">\n",
       "      <th></th>\n",
       "      <th>sequence_number</th>\n",
       "      <th>US</th>\n",
       "      <th>source_a</th>\n",
       "      <th>source_c</th>\n",
       "      <th>source_b</th>\n",
       "      <th>source_d</th>\n",
       "      <th>source_e</th>\n",
       "      <th>source_m</th>\n",
       "      <th>source_o</th>\n",
       "      <th>source_h</th>\n",
       "      <th>...</th>\n",
       "      <th>source_x</th>\n",
       "      <th>source_w</th>\n",
       "      <th>Freq</th>\n",
       "      <th>last_update_days_ago</th>\n",
       "      <th>1st_update_days_ago</th>\n",
       "      <th>Web order</th>\n",
       "      <th>Gender=male</th>\n",
       "      <th>Address_is_res</th>\n",
       "      <th>Purchase</th>\n",
       "      <th>Spending</th>\n",
       "    </tr>\n",
       "  </thead>\n",
       "  <tbody>\n",
       "    <tr>\n",
       "      <th>0</th>\n",
       "      <td>1</td>\n",
       "      <td>1</td>\n",
       "      <td>0</td>\n",
       "      <td>0</td>\n",
       "      <td>1</td>\n",
       "      <td>0</td>\n",
       "      <td>0</td>\n",
       "      <td>0</td>\n",
       "      <td>0</td>\n",
       "      <td>0</td>\n",
       "      <td>...</td>\n",
       "      <td>0</td>\n",
       "      <td>0</td>\n",
       "      <td>2</td>\n",
       "      <td>3662</td>\n",
       "      <td>3662</td>\n",
       "      <td>1</td>\n",
       "      <td>0</td>\n",
       "      <td>1</td>\n",
       "      <td>1</td>\n",
       "      <td>128</td>\n",
       "    </tr>\n",
       "    <tr>\n",
       "      <th>1</th>\n",
       "      <td>2</td>\n",
       "      <td>1</td>\n",
       "      <td>0</td>\n",
       "      <td>0</td>\n",
       "      <td>0</td>\n",
       "      <td>0</td>\n",
       "      <td>1</td>\n",
       "      <td>0</td>\n",
       "      <td>0</td>\n",
       "      <td>0</td>\n",
       "      <td>...</td>\n",
       "      <td>0</td>\n",
       "      <td>0</td>\n",
       "      <td>0</td>\n",
       "      <td>2900</td>\n",
       "      <td>2900</td>\n",
       "      <td>1</td>\n",
       "      <td>1</td>\n",
       "      <td>0</td>\n",
       "      <td>0</td>\n",
       "      <td>0</td>\n",
       "    </tr>\n",
       "    <tr>\n",
       "      <th>2</th>\n",
       "      <td>3</td>\n",
       "      <td>1</td>\n",
       "      <td>0</td>\n",
       "      <td>0</td>\n",
       "      <td>0</td>\n",
       "      <td>0</td>\n",
       "      <td>0</td>\n",
       "      <td>0</td>\n",
       "      <td>0</td>\n",
       "      <td>0</td>\n",
       "      <td>...</td>\n",
       "      <td>0</td>\n",
       "      <td>0</td>\n",
       "      <td>2</td>\n",
       "      <td>3883</td>\n",
       "      <td>3914</td>\n",
       "      <td>0</td>\n",
       "      <td>0</td>\n",
       "      <td>0</td>\n",
       "      <td>1</td>\n",
       "      <td>127</td>\n",
       "    </tr>\n",
       "    <tr>\n",
       "      <th>3</th>\n",
       "      <td>4</td>\n",
       "      <td>1</td>\n",
       "      <td>0</td>\n",
       "      <td>1</td>\n",
       "      <td>0</td>\n",
       "      <td>0</td>\n",
       "      <td>0</td>\n",
       "      <td>0</td>\n",
       "      <td>0</td>\n",
       "      <td>0</td>\n",
       "      <td>...</td>\n",
       "      <td>0</td>\n",
       "      <td>0</td>\n",
       "      <td>1</td>\n",
       "      <td>829</td>\n",
       "      <td>829</td>\n",
       "      <td>0</td>\n",
       "      <td>1</td>\n",
       "      <td>0</td>\n",
       "      <td>0</td>\n",
       "      <td>0</td>\n",
       "    </tr>\n",
       "    <tr>\n",
       "      <th>4</th>\n",
       "      <td>5</td>\n",
       "      <td>1</td>\n",
       "      <td>0</td>\n",
       "      <td>1</td>\n",
       "      <td>0</td>\n",
       "      <td>0</td>\n",
       "      <td>0</td>\n",
       "      <td>0</td>\n",
       "      <td>0</td>\n",
       "      <td>0</td>\n",
       "      <td>...</td>\n",
       "      <td>0</td>\n",
       "      <td>0</td>\n",
       "      <td>1</td>\n",
       "      <td>869</td>\n",
       "      <td>869</td>\n",
       "      <td>0</td>\n",
       "      <td>0</td>\n",
       "      <td>0</td>\n",
       "      <td>0</td>\n",
       "      <td>0</td>\n",
       "    </tr>\n",
       "  </tbody>\n",
       "</table>\n",
       "<p>5 rows × 25 columns</p>\n",
       "</div>"
      ],
      "text/plain": [
       "   sequence_number  US  source_a  source_c  source_b  source_d  source_e  \\\n",
       "0                1   1         0         0         1         0         0   \n",
       "1                2   1         0         0         0         0         1   \n",
       "2                3   1         0         0         0         0         0   \n",
       "3                4   1         0         1         0         0         0   \n",
       "4                5   1         0         1         0         0         0   \n",
       "\n",
       "   source_m  source_o  source_h  ...  source_x  source_w  Freq  \\\n",
       "0         0         0         0  ...         0         0     2   \n",
       "1         0         0         0  ...         0         0     0   \n",
       "2         0         0         0  ...         0         0     2   \n",
       "3         0         0         0  ...         0         0     1   \n",
       "4         0         0         0  ...         0         0     1   \n",
       "\n",
       "   last_update_days_ago  1st_update_days_ago  Web order  Gender=male  \\\n",
       "0                  3662                 3662          1            0   \n",
       "1                  2900                 2900          1            1   \n",
       "2                  3883                 3914          0            0   \n",
       "3                   829                  829          0            1   \n",
       "4                   869                  869          0            0   \n",
       "\n",
       "   Address_is_res  Purchase  Spending  \n",
       "0               1         1       128  \n",
       "1               0         0         0  \n",
       "2               0         1       127  \n",
       "3               0         0         0  \n",
       "4               0         0         0  \n",
       "\n",
       "[5 rows x 25 columns]"
      ]
     },
     "execution_count": 395,
     "metadata": {},
     "output_type": "execute_result"
    }
   ],
   "source": [
    "df=pd.read_csv('Tayko.csv')\n",
    "\n",
    "# Basic information\n",
    "print(\"Shape of dataset:\", df.shape)\n",
    "print(\"\\nData types:\\n\", df.dtypes)\n",
    "df.head()"
   ]
  },
  {
   "cell_type": "code",
   "execution_count": 396,
   "id": "8a6e82f1",
   "metadata": {},
   "outputs": [
    {
     "data": {
      "application/vnd.microsoft.datawrangler.viewer.v0+json": {
       "columns": [
        {
         "name": "index",
         "rawType": "object",
         "type": "string"
        },
        {
         "name": "sequence_number",
         "rawType": "float64",
         "type": "float"
        },
        {
         "name": "US",
         "rawType": "float64",
         "type": "float"
        },
        {
         "name": "source_a",
         "rawType": "float64",
         "type": "float"
        },
        {
         "name": "source_c",
         "rawType": "float64",
         "type": "float"
        },
        {
         "name": "source_b",
         "rawType": "float64",
         "type": "float"
        },
        {
         "name": "source_d",
         "rawType": "float64",
         "type": "float"
        },
        {
         "name": "source_e",
         "rawType": "float64",
         "type": "float"
        },
        {
         "name": "source_m",
         "rawType": "float64",
         "type": "float"
        },
        {
         "name": "source_o",
         "rawType": "float64",
         "type": "float"
        },
        {
         "name": "source_h",
         "rawType": "float64",
         "type": "float"
        },
        {
         "name": "source_r",
         "rawType": "float64",
         "type": "float"
        },
        {
         "name": "source_s",
         "rawType": "float64",
         "type": "float"
        },
        {
         "name": "source_t",
         "rawType": "float64",
         "type": "float"
        },
        {
         "name": "source_u",
         "rawType": "float64",
         "type": "float"
        },
        {
         "name": "source_p",
         "rawType": "float64",
         "type": "float"
        },
        {
         "name": "source_x",
         "rawType": "float64",
         "type": "float"
        },
        {
         "name": "source_w",
         "rawType": "float64",
         "type": "float"
        },
        {
         "name": "Freq",
         "rawType": "float64",
         "type": "float"
        },
        {
         "name": "last_update_days_ago",
         "rawType": "float64",
         "type": "float"
        },
        {
         "name": "1st_update_days_ago",
         "rawType": "float64",
         "type": "float"
        },
        {
         "name": "Web order",
         "rawType": "float64",
         "type": "float"
        },
        {
         "name": "Gender=male",
         "rawType": "float64",
         "type": "float"
        },
        {
         "name": "Address_is_res",
         "rawType": "float64",
         "type": "float"
        },
        {
         "name": "Purchase",
         "rawType": "float64",
         "type": "float"
        },
        {
         "name": "Spending",
         "rawType": "float64",
         "type": "float"
        }
       ],
       "ref": "5b4bd3c3-d8c8-4432-9d22-b86bbbd2cd44",
       "rows": [
        [
         "count",
         "2000.0",
         "2000.0",
         "2000.0",
         "2000.0",
         "2000.0",
         "2000.0",
         "2000.0",
         "2000.0",
         "2000.0",
         "2000.0",
         "2000.0",
         "2000.0",
         "2000.0",
         "2000.0",
         "2000.0",
         "2000.0",
         "2000.0",
         "2000.0",
         "2000.0",
         "2000.0",
         "2000.0",
         "2000.0",
         "2000.0",
         "2000.0",
         "2000.0"
        ],
        [
         "mean",
         "1000.5",
         "0.8245",
         "0.1265",
         "0.056",
         "0.06",
         "0.0415",
         "0.151",
         "0.0165",
         "0.0335",
         "0.0525",
         "0.0685",
         "0.047",
         "0.0215",
         "0.119",
         "0.006",
         "0.018",
         "0.1375",
         "1.417",
         "2155.101",
         "2435.6015",
         "0.426",
         "0.5245",
         "0.221",
         "0.5",
         "102.625"
        ],
        [
         "std",
         "577.4945887192364",
         "0.3804893376535458",
         "0.33249515261617973",
         "0.22997922780679847",
         "0.23754623572486588",
         "0.19949348065641698",
         "0.3581384251456172",
         "0.12742004525963324",
         "0.17998318525208612",
         "0.22308884848229996",
         "0.25266513379355976",
         "0.21169177287592372",
         "0.14508023344711204",
         "0.3238694887186217",
         "0.07724625228285106",
         "0.13298436908603434",
         "0.3444605587556711",
         "1.4057379021441951",
         "1141.302846264937",
         "1077.8722326754394",
         "0.4946173502431762",
         "0.4995242859522729",
         "0.4150242433416157",
         "0.5001250468945398",
         "186.7826095936753"
        ],
        [
         "min",
         "1.0",
         "0.0",
         "0.0",
         "0.0",
         "0.0",
         "0.0",
         "0.0",
         "0.0",
         "0.0",
         "0.0",
         "0.0",
         "0.0",
         "0.0",
         "0.0",
         "0.0",
         "0.0",
         "0.0",
         "0.0",
         "1.0",
         "1.0",
         "0.0",
         "0.0",
         "0.0",
         "0.0",
         "0.0"
        ],
        [
         "25%",
         "500.75",
         "1.0",
         "0.0",
         "0.0",
         "0.0",
         "0.0",
         "0.0",
         "0.0",
         "0.0",
         "0.0",
         "0.0",
         "0.0",
         "0.0",
         "0.0",
         "0.0",
         "0.0",
         "0.0",
         "1.0",
         "1133.0",
         "1671.25",
         "0.0",
         "0.0",
         "0.0",
         "0.0",
         "0.0"
        ],
        [
         "50%",
         "1000.5",
         "1.0",
         "0.0",
         "0.0",
         "0.0",
         "0.0",
         "0.0",
         "0.0",
         "0.0",
         "0.0",
         "0.0",
         "0.0",
         "0.0",
         "0.0",
         "0.0",
         "0.0",
         "0.0",
         "1.0",
         "2280.0",
         "2721.0",
         "0.0",
         "1.0",
         "0.0",
         "0.5",
         "2.0"
        ],
        [
         "75%",
         "1500.25",
         "1.0",
         "0.0",
         "0.0",
         "0.0",
         "0.0",
         "0.0",
         "0.0",
         "0.0",
         "0.0",
         "0.0",
         "0.0",
         "0.0",
         "0.0",
         "0.0",
         "0.0",
         "0.0",
         "2.0",
         "3139.25",
         "3353.0",
         "1.0",
         "1.0",
         "0.0",
         "1.0",
         "153.0"
        ],
        [
         "max",
         "2000.0",
         "1.0",
         "1.0",
         "1.0",
         "1.0",
         "1.0",
         "1.0",
         "1.0",
         "1.0",
         "1.0",
         "1.0",
         "1.0",
         "1.0",
         "1.0",
         "1.0",
         "1.0",
         "1.0",
         "15.0",
         "4188.0",
         "4188.0",
         "1.0",
         "1.0",
         "1.0",
         "1.0",
         "1500.0"
        ]
       ],
       "shape": {
        "columns": 25,
        "rows": 8
       }
      },
      "text/html": [
       "<div>\n",
       "<style scoped>\n",
       "    .dataframe tbody tr th:only-of-type {\n",
       "        vertical-align: middle;\n",
       "    }\n",
       "\n",
       "    .dataframe tbody tr th {\n",
       "        vertical-align: top;\n",
       "    }\n",
       "\n",
       "    .dataframe thead th {\n",
       "        text-align: right;\n",
       "    }\n",
       "</style>\n",
       "<table border=\"1\" class=\"dataframe\">\n",
       "  <thead>\n",
       "    <tr style=\"text-align: right;\">\n",
       "      <th></th>\n",
       "      <th>sequence_number</th>\n",
       "      <th>US</th>\n",
       "      <th>source_a</th>\n",
       "      <th>source_c</th>\n",
       "      <th>source_b</th>\n",
       "      <th>source_d</th>\n",
       "      <th>source_e</th>\n",
       "      <th>source_m</th>\n",
       "      <th>source_o</th>\n",
       "      <th>source_h</th>\n",
       "      <th>...</th>\n",
       "      <th>source_x</th>\n",
       "      <th>source_w</th>\n",
       "      <th>Freq</th>\n",
       "      <th>last_update_days_ago</th>\n",
       "      <th>1st_update_days_ago</th>\n",
       "      <th>Web order</th>\n",
       "      <th>Gender=male</th>\n",
       "      <th>Address_is_res</th>\n",
       "      <th>Purchase</th>\n",
       "      <th>Spending</th>\n",
       "    </tr>\n",
       "  </thead>\n",
       "  <tbody>\n",
       "    <tr>\n",
       "      <th>count</th>\n",
       "      <td>2000.000000</td>\n",
       "      <td>2000.000000</td>\n",
       "      <td>2000.000000</td>\n",
       "      <td>2000.000000</td>\n",
       "      <td>2000.000000</td>\n",
       "      <td>2000.000000</td>\n",
       "      <td>2000.000000</td>\n",
       "      <td>2000.00000</td>\n",
       "      <td>2000.000000</td>\n",
       "      <td>2000.000000</td>\n",
       "      <td>...</td>\n",
       "      <td>2000.000000</td>\n",
       "      <td>2000.000000</td>\n",
       "      <td>2000.000000</td>\n",
       "      <td>2000.000000</td>\n",
       "      <td>2000.000000</td>\n",
       "      <td>2000.000000</td>\n",
       "      <td>2000.000000</td>\n",
       "      <td>2000.000000</td>\n",
       "      <td>2000.000000</td>\n",
       "      <td>2000.00000</td>\n",
       "    </tr>\n",
       "    <tr>\n",
       "      <th>mean</th>\n",
       "      <td>1000.500000</td>\n",
       "      <td>0.824500</td>\n",
       "      <td>0.126500</td>\n",
       "      <td>0.056000</td>\n",
       "      <td>0.060000</td>\n",
       "      <td>0.041500</td>\n",
       "      <td>0.151000</td>\n",
       "      <td>0.01650</td>\n",
       "      <td>0.033500</td>\n",
       "      <td>0.052500</td>\n",
       "      <td>...</td>\n",
       "      <td>0.018000</td>\n",
       "      <td>0.137500</td>\n",
       "      <td>1.417000</td>\n",
       "      <td>2155.101000</td>\n",
       "      <td>2435.601500</td>\n",
       "      <td>0.426000</td>\n",
       "      <td>0.524500</td>\n",
       "      <td>0.221000</td>\n",
       "      <td>0.500000</td>\n",
       "      <td>102.62500</td>\n",
       "    </tr>\n",
       "    <tr>\n",
       "      <th>std</th>\n",
       "      <td>577.494589</td>\n",
       "      <td>0.380489</td>\n",
       "      <td>0.332495</td>\n",
       "      <td>0.229979</td>\n",
       "      <td>0.237546</td>\n",
       "      <td>0.199493</td>\n",
       "      <td>0.358138</td>\n",
       "      <td>0.12742</td>\n",
       "      <td>0.179983</td>\n",
       "      <td>0.223089</td>\n",
       "      <td>...</td>\n",
       "      <td>0.132984</td>\n",
       "      <td>0.344461</td>\n",
       "      <td>1.405738</td>\n",
       "      <td>1141.302846</td>\n",
       "      <td>1077.872233</td>\n",
       "      <td>0.494617</td>\n",
       "      <td>0.499524</td>\n",
       "      <td>0.415024</td>\n",
       "      <td>0.500125</td>\n",
       "      <td>186.78261</td>\n",
       "    </tr>\n",
       "    <tr>\n",
       "      <th>min</th>\n",
       "      <td>1.000000</td>\n",
       "      <td>0.000000</td>\n",
       "      <td>0.000000</td>\n",
       "      <td>0.000000</td>\n",
       "      <td>0.000000</td>\n",
       "      <td>0.000000</td>\n",
       "      <td>0.000000</td>\n",
       "      <td>0.00000</td>\n",
       "      <td>0.000000</td>\n",
       "      <td>0.000000</td>\n",
       "      <td>...</td>\n",
       "      <td>0.000000</td>\n",
       "      <td>0.000000</td>\n",
       "      <td>0.000000</td>\n",
       "      <td>1.000000</td>\n",
       "      <td>1.000000</td>\n",
       "      <td>0.000000</td>\n",
       "      <td>0.000000</td>\n",
       "      <td>0.000000</td>\n",
       "      <td>0.000000</td>\n",
       "      <td>0.00000</td>\n",
       "    </tr>\n",
       "    <tr>\n",
       "      <th>25%</th>\n",
       "      <td>500.750000</td>\n",
       "      <td>1.000000</td>\n",
       "      <td>0.000000</td>\n",
       "      <td>0.000000</td>\n",
       "      <td>0.000000</td>\n",
       "      <td>0.000000</td>\n",
       "      <td>0.000000</td>\n",
       "      <td>0.00000</td>\n",
       "      <td>0.000000</td>\n",
       "      <td>0.000000</td>\n",
       "      <td>...</td>\n",
       "      <td>0.000000</td>\n",
       "      <td>0.000000</td>\n",
       "      <td>1.000000</td>\n",
       "      <td>1133.000000</td>\n",
       "      <td>1671.250000</td>\n",
       "      <td>0.000000</td>\n",
       "      <td>0.000000</td>\n",
       "      <td>0.000000</td>\n",
       "      <td>0.000000</td>\n",
       "      <td>0.00000</td>\n",
       "    </tr>\n",
       "    <tr>\n",
       "      <th>50%</th>\n",
       "      <td>1000.500000</td>\n",
       "      <td>1.000000</td>\n",
       "      <td>0.000000</td>\n",
       "      <td>0.000000</td>\n",
       "      <td>0.000000</td>\n",
       "      <td>0.000000</td>\n",
       "      <td>0.000000</td>\n",
       "      <td>0.00000</td>\n",
       "      <td>0.000000</td>\n",
       "      <td>0.000000</td>\n",
       "      <td>...</td>\n",
       "      <td>0.000000</td>\n",
       "      <td>0.000000</td>\n",
       "      <td>1.000000</td>\n",
       "      <td>2280.000000</td>\n",
       "      <td>2721.000000</td>\n",
       "      <td>0.000000</td>\n",
       "      <td>1.000000</td>\n",
       "      <td>0.000000</td>\n",
       "      <td>0.500000</td>\n",
       "      <td>2.00000</td>\n",
       "    </tr>\n",
       "    <tr>\n",
       "      <th>75%</th>\n",
       "      <td>1500.250000</td>\n",
       "      <td>1.000000</td>\n",
       "      <td>0.000000</td>\n",
       "      <td>0.000000</td>\n",
       "      <td>0.000000</td>\n",
       "      <td>0.000000</td>\n",
       "      <td>0.000000</td>\n",
       "      <td>0.00000</td>\n",
       "      <td>0.000000</td>\n",
       "      <td>0.000000</td>\n",
       "      <td>...</td>\n",
       "      <td>0.000000</td>\n",
       "      <td>0.000000</td>\n",
       "      <td>2.000000</td>\n",
       "      <td>3139.250000</td>\n",
       "      <td>3353.000000</td>\n",
       "      <td>1.000000</td>\n",
       "      <td>1.000000</td>\n",
       "      <td>0.000000</td>\n",
       "      <td>1.000000</td>\n",
       "      <td>153.00000</td>\n",
       "    </tr>\n",
       "    <tr>\n",
       "      <th>max</th>\n",
       "      <td>2000.000000</td>\n",
       "      <td>1.000000</td>\n",
       "      <td>1.000000</td>\n",
       "      <td>1.000000</td>\n",
       "      <td>1.000000</td>\n",
       "      <td>1.000000</td>\n",
       "      <td>1.000000</td>\n",
       "      <td>1.00000</td>\n",
       "      <td>1.000000</td>\n",
       "      <td>1.000000</td>\n",
       "      <td>...</td>\n",
       "      <td>1.000000</td>\n",
       "      <td>1.000000</td>\n",
       "      <td>15.000000</td>\n",
       "      <td>4188.000000</td>\n",
       "      <td>4188.000000</td>\n",
       "      <td>1.000000</td>\n",
       "      <td>1.000000</td>\n",
       "      <td>1.000000</td>\n",
       "      <td>1.000000</td>\n",
       "      <td>1500.00000</td>\n",
       "    </tr>\n",
       "  </tbody>\n",
       "</table>\n",
       "<p>8 rows × 25 columns</p>\n",
       "</div>"
      ],
      "text/plain": [
       "       sequence_number           US     source_a     source_c     source_b  \\\n",
       "count      2000.000000  2000.000000  2000.000000  2000.000000  2000.000000   \n",
       "mean       1000.500000     0.824500     0.126500     0.056000     0.060000   \n",
       "std         577.494589     0.380489     0.332495     0.229979     0.237546   \n",
       "min           1.000000     0.000000     0.000000     0.000000     0.000000   \n",
       "25%         500.750000     1.000000     0.000000     0.000000     0.000000   \n",
       "50%        1000.500000     1.000000     0.000000     0.000000     0.000000   \n",
       "75%        1500.250000     1.000000     0.000000     0.000000     0.000000   \n",
       "max        2000.000000     1.000000     1.000000     1.000000     1.000000   \n",
       "\n",
       "          source_d     source_e    source_m     source_o     source_h  ...  \\\n",
       "count  2000.000000  2000.000000  2000.00000  2000.000000  2000.000000  ...   \n",
       "mean      0.041500     0.151000     0.01650     0.033500     0.052500  ...   \n",
       "std       0.199493     0.358138     0.12742     0.179983     0.223089  ...   \n",
       "min       0.000000     0.000000     0.00000     0.000000     0.000000  ...   \n",
       "25%       0.000000     0.000000     0.00000     0.000000     0.000000  ...   \n",
       "50%       0.000000     0.000000     0.00000     0.000000     0.000000  ...   \n",
       "75%       0.000000     0.000000     0.00000     0.000000     0.000000  ...   \n",
       "max       1.000000     1.000000     1.00000     1.000000     1.000000  ...   \n",
       "\n",
       "          source_x     source_w         Freq  last_update_days_ago  \\\n",
       "count  2000.000000  2000.000000  2000.000000           2000.000000   \n",
       "mean      0.018000     0.137500     1.417000           2155.101000   \n",
       "std       0.132984     0.344461     1.405738           1141.302846   \n",
       "min       0.000000     0.000000     0.000000              1.000000   \n",
       "25%       0.000000     0.000000     1.000000           1133.000000   \n",
       "50%       0.000000     0.000000     1.000000           2280.000000   \n",
       "75%       0.000000     0.000000     2.000000           3139.250000   \n",
       "max       1.000000     1.000000    15.000000           4188.000000   \n",
       "\n",
       "       1st_update_days_ago    Web order  Gender=male  Address_is_res  \\\n",
       "count          2000.000000  2000.000000  2000.000000     2000.000000   \n",
       "mean           2435.601500     0.426000     0.524500        0.221000   \n",
       "std            1077.872233     0.494617     0.499524        0.415024   \n",
       "min               1.000000     0.000000     0.000000        0.000000   \n",
       "25%            1671.250000     0.000000     0.000000        0.000000   \n",
       "50%            2721.000000     0.000000     1.000000        0.000000   \n",
       "75%            3353.000000     1.000000     1.000000        0.000000   \n",
       "max            4188.000000     1.000000     1.000000        1.000000   \n",
       "\n",
       "          Purchase    Spending  \n",
       "count  2000.000000  2000.00000  \n",
       "mean      0.500000   102.62500  \n",
       "std       0.500125   186.78261  \n",
       "min       0.000000     0.00000  \n",
       "25%       0.000000     0.00000  \n",
       "50%       0.500000     2.00000  \n",
       "75%       1.000000   153.00000  \n",
       "max       1.000000  1500.00000  \n",
       "\n",
       "[8 rows x 25 columns]"
      ]
     },
     "execution_count": 396,
     "metadata": {},
     "output_type": "execute_result"
    }
   ],
   "source": [
    "df.describe()"
   ]
  },
  {
   "cell_type": "code",
   "execution_count": 397,
   "id": "71da1fae",
   "metadata": {},
   "outputs": [
    {
     "data": {
      "text/plain": [
       "Index(['sequence_number', 'US', 'source_a', 'source_c', 'source_b', 'source_d',\n",
       "       'source_e', 'source_m', 'source_o', 'source_h', 'source_r', 'source_s',\n",
       "       'source_t', 'source_u', 'source_p', 'source_x', 'source_w', 'Freq',\n",
       "       'last_update_days_ago', '1st_update_days_ago', 'Web order',\n",
       "       'Gender=male', 'Address_is_res', 'Purchase', 'Spending'],\n",
       "      dtype='object')"
      ]
     },
     "metadata": {},
     "output_type": "display_data"
    }
   ],
   "source": [
    "display(df.columns)"
   ]
  },
  {
   "cell_type": "code",
   "execution_count": 398,
   "id": "03e862f6",
   "metadata": {},
   "outputs": [
    {
     "data": {
      "application/vnd.microsoft.datawrangler.viewer.v0+json": {
       "columns": [
        {
         "name": "index",
         "rawType": "object",
         "type": "string"
        },
        {
         "name": "0",
         "rawType": "int64",
         "type": "integer"
        }
       ],
       "ref": "339330ab-bb57-4891-86fa-3237412bb228",
       "rows": [
        [
         "sequence_number",
         "0"
        ],
        [
         "US",
         "0"
        ],
        [
         "source_a",
         "0"
        ],
        [
         "source_c",
         "0"
        ],
        [
         "source_b",
         "0"
        ],
        [
         "source_d",
         "0"
        ],
        [
         "source_e",
         "0"
        ],
        [
         "source_m",
         "0"
        ],
        [
         "source_o",
         "0"
        ],
        [
         "source_h",
         "0"
        ],
        [
         "source_r",
         "0"
        ],
        [
         "source_s",
         "0"
        ],
        [
         "source_t",
         "0"
        ],
        [
         "source_u",
         "0"
        ],
        [
         "source_p",
         "0"
        ],
        [
         "source_x",
         "0"
        ],
        [
         "source_w",
         "0"
        ],
        [
         "Freq",
         "0"
        ],
        [
         "last_update_days_ago",
         "0"
        ],
        [
         "1st_update_days_ago",
         "0"
        ],
        [
         "Web order",
         "0"
        ],
        [
         "Gender=male",
         "0"
        ],
        [
         "Address_is_res",
         "0"
        ],
        [
         "Purchase",
         "0"
        ],
        [
         "Spending",
         "0"
        ]
       ],
       "shape": {
        "columns": 1,
        "rows": 25
       }
      },
      "text/plain": [
       "sequence_number         0\n",
       "US                      0\n",
       "source_a                0\n",
       "source_c                0\n",
       "source_b                0\n",
       "source_d                0\n",
       "source_e                0\n",
       "source_m                0\n",
       "source_o                0\n",
       "source_h                0\n",
       "source_r                0\n",
       "source_s                0\n",
       "source_t                0\n",
       "source_u                0\n",
       "source_p                0\n",
       "source_x                0\n",
       "source_w                0\n",
       "Freq                    0\n",
       "last_update_days_ago    0\n",
       "1st_update_days_ago     0\n",
       "Web order               0\n",
       "Gender=male             0\n",
       "Address_is_res          0\n",
       "Purchase                0\n",
       "Spending                0\n",
       "dtype: int64"
      ]
     },
     "execution_count": 398,
     "metadata": {},
     "output_type": "execute_result"
    }
   ],
   "source": [
    "df.isnull().sum() # Check for missing values"
   ]
  },
  {
   "cell_type": "markdown",
   "id": "2c86e054",
   "metadata": {},
   "source": [
    "## 1. Gross Profit = Expect Revenue - Mailing Cost"
   ]
  },
  {
   "cell_type": "code",
   "execution_count": 399,
   "id": "b11b7581",
   "metadata": {},
   "outputs": [
    {
     "name": "stdout",
     "output_type": "stream",
     "text": [
      "Average spending per person: 102.625\n",
      "Expected revenue: 18472500.0\n",
      "mailing cost: 360000\n",
      "Gross profit: 18112500.0\n"
     ]
    }
   ],
   "source": [
    "# 1. Computer the average spending perv person in the test mailing \n",
    "# (Including purchase and non purchased, non purchaser spent = 0)\n",
    "ave_spending = df['Spending'].mean()\n",
    "\n",
    "# 2. Get the total revunue which is the answer multiply 180,000\n",
    "\n",
    "expected_revenue = ave_spending * 180_000\n",
    "mailing_cost = 180_000 * 2\n",
    "\n",
    "\n",
    "# 3. Substract the mailing cost: 180,000 x 2 =$360,000\n",
    "gross_profit = expected_revenue - mailing_cost\n",
    "\n",
    "print('Average spending per person:', ave_spending)\n",
    "print('Expected revenue:', expected_revenue)\n",
    "print('mailing cost:', mailing_cost)\n",
    "print('Gross profit:', gross_profit)\n"
   ]
  },
  {
   "cell_type": "code",
   "execution_count": 400,
   "id": "3add1507",
   "metadata": {},
   "outputs": [
    {
     "data": {
      "application/vnd.microsoft.datawrangler.viewer.v0+json": {
       "columns": [
        {
         "name": "US",
         "rawType": "int64",
         "type": "integer"
        },
        {
         "name": "count",
         "rawType": "int64",
         "type": "integer"
        }
       ],
       "ref": "2db208cb-0f8c-4290-9e5c-b6f30d785462",
       "rows": [
        [
         "1",
         "1649"
        ],
        [
         "0",
         "351"
        ]
       ],
       "shape": {
        "columns": 1,
        "rows": 2
       }
      },
      "text/plain": [
       "US\n",
       "1    1649\n",
       "0     351\n",
       "Name: count, dtype: int64"
      ]
     },
     "execution_count": 400,
     "metadata": {},
     "output_type": "execute_result"
    }
   ],
   "source": [
    "df[\"US\"].value_counts()"
   ]
  },
  {
   "cell_type": "code",
   "execution_count": 401,
   "id": "fef2fa03",
   "metadata": {},
   "outputs": [
    {
     "data": {
      "image/png": "[encoded data removed]",
      "text/plain": [
       "<Figure size 600x400 with 2 Axes>"
      ]
     },
     "metadata": {},
     "output_type": "display_data"
    }
   ],
   "source": [
    "numeric_features = [\"Freq\", \"last_update_days_ago\", \"1st_update_days_ago\", \"Spending\", \"Purchase\"]\n",
    "df_numeric = df[numeric_features]\n",
    "corr = df_numeric.corr()\n",
    "\n",
    "# Upper Triangle plot\n",
    "mask = np.triu(np.ones_like(corr, dtype=bool))\n",
    "\n",
    "plt.figure(figsize=(6,4))\n",
    "sns.heatmap(corr, mask=mask, cmap=\"coolwarm\", annot=True, \n",
    "            annot_kws={\"size\": 10}, fmt=\".2f\", linewidths=0.5)\n",
    "plt.xticks(rotation=30)\n",
    "plt.title(\"Correlation Heatmap\")\n",
    "plt.show()"
   ]
  },
  {
   "cell_type": "markdown",
   "id": "67a6bce0",
   "metadata": {},
   "source": [
    "## 2. Logistic regression Modeling (Model for classifying a customer as a purchaser or nonpurchaser)"
   ]
  },
  {
   "cell_type": "markdown",
   "id": "2ebf2867",
   "metadata": {},
   "source": [
    "### 2.1 Train/Validation/Test Split (Stratified 800 / 700 / 500)"
   ]
  },
  {
   "cell_type": "code",
   "execution_count": 402,
   "id": "69e2b34f",
   "metadata": {},
   "outputs": [
    {
     "name": "stdout",
     "output_type": "stream",
     "text": [
      "train_X shape: 800\n",
      "valid_X shape: 700\n",
      "test_X shape: 500\n"
     ]
    }
   ],
   "source": [
    "# drop features\n",
    "X = df.drop(columns=[\"Spending\", \"Purchase\", \"sequence_number\"], errors=\"ignore\")\n",
    "y =df[\"Purchase\"]\n",
    "# train/valid split\n",
    "train_X, tmp_X, train_y, tmp_y =train_test_split(X, y, train_size=800, stratify=y, random_state=42)\n",
    "# valid/test split\n",
    "valid_X, test_X, valid_y, test_y =train_test_split(tmp_X, tmp_y, test_size=500, stratify=tmp_y, random_state=42)\n",
    "\n",
    "print('train_X shape:', train_X.shape[0])\n",
    "print('valid_X shape:', valid_X.shape[0]) \n",
    "print('test_X shape:', test_X.shape[0])"
   ]
  },
  {
   "cell_type": "markdown",
   "id": "6254b1f1",
   "metadata": {},
   "source": [
    "### 2.2 Logistic Regression (L2, lbfgs) — Trained on Training Set; Probabilities & Validation Performance"
   ]
  },
  {
   "cell_type": "code",
   "execution_count": 403,
   "id": "8cb8cff6",
   "metadata": {},
   "outputs": [
    {
     "name": "stdout",
     "output_type": "stream",
     "text": [
      "Confusion Matrix (Accuracy 0.8143)\n",
      "\n",
      "       Prediction\n",
      "Actual   0   1\n",
      "     0 283  67\n",
      "     1  63 287\n",
      "classification_report:\n",
      "\n",
      "              precision    recall  f1-score   support\n",
      "\n",
      "           0      0.818     0.809     0.813       350\n",
      "           1      0.811     0.820     0.815       350\n",
      "\n",
      "    accuracy                          0.814       700\n",
      "   macro avg      0.814     0.814     0.814       700\n",
      "weighted avg      0.814     0.814     0.814       700\n",
      "\n"
     ]
    }
   ],
   "source": [
    "from dmba import classificationSummary\n",
    "# Build pipeline: standardize features, then logistic regression\n",
    "pipe = Pipeline([(\"scaler\", StandardScaler()), \n",
    "                 (\"logit\", LogisticRegression(penalty=\"l2\", max_iter=1000, solver=\"lbfgs\"))])\n",
    "\n",
    "# Train model (training set only)\n",
    "pipe.fit(train_X, train_y)\n",
    "\n",
    "# probabilities & predictions \n",
    "proba = pipe.predict_proba(valid_X)        # shape (n, 2) -> columns for classes [0, 1]\n",
    "pred  = pipe.predict(valid_X)\n",
    "\n",
    "# acc = accuracy_score(valid_y, val_pred)\n",
    "# auc = roc_auc_score(valid_y, val_proba)\n",
    "\n",
    "# build  result frame\n",
    "full_result = pd.DataFrame({\n",
    "    'actual':    valid_y.values,\n",
    "    'p(0)':      proba[:, 0],\n",
    "    'p(1)':      proba[:, 1],   # purchase probability\n",
    "    'predicted': pred\n",
    "}).sort_values('p(1)', ascending=False)\n",
    "\n",
    "classificationSummary(full_result.actual, full_result.predicted)\n",
    "print(\"classification_report:\\n\")\n",
    "print(classification_report(valid_y, pred, digits=3))"
   ]
  },
  {
   "cell_type": "markdown",
   "id": "08b3f33d",
   "metadata": {},
   "source": [
    "Interpretation 2.1 and 2.2: the model achieves about 81.4% accuracy, with precision=0.811 and recall=0.820 for purchasers, which means it correctly identifies most buyers while keeping false positives relatively low. The confusion matrix shows that 67 non-purchasers would be mistakenly targeted (wasted mailings), while 63 true purchasers would be missed. The model does a good job ranking which customers are most likely to buy. It performs much better than sending catalogs at random and provides purchase probabilities that can be used to guide profit analysis."
   ]
  },
  {
   "cell_type": "markdown",
   "id": "e9152682",
   "metadata": {},
   "source": [
    "## 3. Models for predicting spending among the purchasers"
   ]
  },
  {
   "cell_type": "markdown",
   "id": "b2734be2",
   "metadata": {},
   "source": [
    "### 3.1 Purchaser only subsets\n",
    "From previous defined training and validation sets, keep only records where Purchase = 1. Define predictors X and target y = Spending."
   ]
  },
  {
   "cell_type": "code",
   "execution_count": 404,
   "id": "60dbca86",
   "metadata": {},
   "outputs": [
    {
     "name": "stdout",
     "output_type": "stream",
     "text": [
      "Purchase\n",
      "1    400\n",
      "0    400\n",
      "Name: count, dtype: int64\n"
     ]
    }
   ],
   "source": [
    "print(train_y.value_counts())"
   ]
  },
  {
   "cell_type": "code",
   "execution_count": 405,
   "id": "50ad39da",
   "metadata": {},
   "outputs": [
    {
     "name": "stdout",
     "output_type": "stream",
     "text": [
      "Train purchasers: (400, 22) (400,)\n",
      "Valid purchasers: (350, 22) (350,)\n"
     ]
    }
   ],
   "source": [
    "# 3.1: Purchaser-only subsets; redefine X and y for Spending\n",
    "\n",
    "# filters for train/validation rows\n",
    "train_filter = df.index.isin(train_X.index)\n",
    "valid_filter = df.index.isin(valid_X.index)\n",
    "\n",
    "# Keep only purchasers (Purchase == 1)\n",
    "train_purch = df[train_filter & (df[\"Purchase\"] == 1)]\n",
    "valid_purch = df[valid_filter & (df[\"Purchase\"] == 1)]\n",
    "\n",
    "# Define predictors (drop targets/ID-like columns) and new target = Spending\n",
    "X_train_p = train_purch.drop(columns=[\"Purchase\", \"Spending\", \"sequence_number\"], errors=\"ignore\")\n",
    "y_train_p = train_purch[\"Spending\"]\n",
    "\n",
    "X_valid_p = valid_purch.drop(columns=[\"Purchase\", \"Spending\", \"sequence_number\"], errors=\"ignore\")\n",
    "y_valid_p = valid_purch[\"Spending\"]\n",
    "\n",
    "# Quick check\n",
    "print(\"Train purchasers:\", X_train_p.shape, y_train_p.shape)\n",
    "print(\"Valid purchasers:\", X_valid_p.shape, y_valid_p.shape)"
   ]
  },
  {
   "cell_type": "code",
   "execution_count": 406,
   "id": "f4faafd7",
   "metadata": {},
   "outputs": [
    {
     "data": {
      "application/vnd.microsoft.datawrangler.viewer.v0+json": {
       "columns": [
        {
         "name": "index",
         "rawType": "int64",
         "type": "integer"
        },
        {
         "name": "Spending",
         "rawType": "int64",
         "type": "integer"
        }
       ],
       "ref": "672c680e-8358-4455-90a8-1cc849aab550",
       "rows": [
        [
         "2",
         "127"
        ],
        [
         "14",
         "192"
        ],
        [
         "23",
         "174"
        ],
        [
         "29",
         "354"
        ],
        [
         "45",
         "159"
        ],
        [
         "48",
         "41"
        ],
        [
         "52",
         "1030"
        ],
        [
         "56",
         "362"
        ],
        [
         "58",
         "109"
        ],
        [
         "62",
         "261"
        ],
        [
         "63",
         "43"
        ],
        [
         "65",
         "80"
        ],
        [
         "68",
         "588"
        ],
        [
         "70",
         "298"
        ],
        [
         "76",
         "160"
        ],
        [
         "77",
         "50"
        ],
        [
         "80",
         "233"
        ],
        [
         "85",
         "132"
        ],
        [
         "88",
         "248"
        ],
        [
         "89",
         "277"
        ],
        [
         "95",
         "230"
        ],
        [
         "104",
         "164"
        ],
        [
         "113",
         "79"
        ],
        [
         "114",
         "404"
        ],
        [
         "117",
         "186"
        ],
        [
         "119",
         "324"
        ],
        [
         "124",
         "167"
        ],
        [
         "128",
         "206"
        ],
        [
         "129",
         "67"
        ],
        [
         "130",
         "120"
        ],
        [
         "132",
         "129"
        ],
        [
         "135",
         "420"
        ],
        [
         "142",
         "129"
        ],
        [
         "146",
         "605"
        ],
        [
         "147",
         "164"
        ],
        [
         "149",
         "161"
        ],
        [
         "151",
         "451"
        ],
        [
         "159",
         "547"
        ],
        [
         "171",
         "249"
        ],
        [
         "177",
         "77"
        ],
        [
         "178",
         "68"
        ],
        [
         "179",
         "219"
        ],
        [
         "181",
         "149"
        ],
        [
         "188",
         "130"
        ],
        [
         "189",
         "32"
        ],
        [
         "191",
         "54"
        ],
        [
         "193",
         "80"
        ],
        [
         "203",
         "412"
        ],
        [
         "206",
         "25"
        ],
        [
         "207",
         "153"
        ]
       ],
       "shape": {
        "columns": 1,
        "rows": 400
       }
      },
      "text/plain": [
       "2        127\n",
       "14       192\n",
       "23       174\n",
       "29       354\n",
       "45       159\n",
       "        ... \n",
       "1972     320\n",
       "1980      98\n",
       "1986     145\n",
       "1989    1030\n",
       "1994     184\n",
       "Name: Spending, Length: 400, dtype: int64"
      ]
     },
     "execution_count": 406,
     "metadata": {},
     "output_type": "execute_result"
    }
   ],
   "source": [
    "y_train_p"
   ]
  },
  {
   "cell_type": "markdown",
   "id": "45c4e83a",
   "metadata": {},
   "source": [
    "#### 3.2.1 Multiple linear regression"
   ]
  },
  {
   "cell_type": "code",
   "execution_count": 407,
   "id": "aa891278",
   "metadata": {},
   "outputs": [
    {
     "name": "stdout",
     "output_type": "stream",
     "text": [
      "intercept 122.90673571037372\n"
     ]
    },
    {
     "data": {
      "application/vnd.microsoft.datawrangler.viewer.v0+json": {
       "columns": [
        {
         "name": "index",
         "rawType": "int64",
         "type": "integer"
        },
        {
         "name": "Predictor",
         "rawType": "object",
         "type": "string"
        },
        {
         "name": "Coefficient",
         "rawType": "float64",
         "type": "float"
        }
       ],
       "ref": "eccc67a5-d5e4-4d58-bd5e-79aad4388ced",
       "rows": [
        [
         "0",
         "US",
         "18.61875581078765"
        ],
        [
         "1",
         "source_a",
         "22.970667383330255"
        ],
        [
         "2",
         "source_c",
         "-43.69978030804656"
        ],
        [
         "3",
         "source_b",
         "-37.63937040271347"
        ],
        [
         "4",
         "source_d",
         "-65.07190187172331"
        ],
        [
         "5",
         "source_e",
         "-39.93328866885474"
        ],
        [
         "6",
         "source_m",
         "-55.665130754258676"
        ],
        [
         "7",
         "source_o",
         "41.312097039675834"
        ],
        [
         "8",
         "source_h",
         "-152.9762567958953"
        ],
        [
         "9",
         "source_r",
         "49.381203738201215"
        ],
        [
         "10",
         "source_s",
         "-13.427968866774702"
        ],
        [
         "11",
         "source_t",
         "-64.36356305507235"
        ],
        [
         "12",
         "source_u",
         "13.002463143162112"
        ],
        [
         "13",
         "source_p",
         "-59.0262220049715"
        ],
        [
         "14",
         "source_x",
         "-33.8347992011782"
        ],
        [
         "15",
         "source_w",
         "4.796470551573263"
        ],
        [
         "16",
         "Freq",
         "84.5947894392467"
        ],
        [
         "17",
         "last_update_days_ago",
         "-0.02206969347706415"
        ],
        [
         "18",
         "1st_update_days_ago",
         "-0.0025068557265934856"
        ],
        [
         "19",
         "Web order",
         "-3.9315503407081307"
        ],
        [
         "20",
         "Gender=male",
         "-35.64345898856413"
        ],
        [
         "21",
         "Address_is_res",
         "-90.34733611095893"
        ]
       ],
       "shape": {
        "columns": 2,
        "rows": 22
       }
      },
      "text/html": [
       "<div>\n",
       "<style scoped>\n",
       "    .dataframe tbody tr th:only-of-type {\n",
       "        vertical-align: middle;\n",
       "    }\n",
       "\n",
       "    .dataframe tbody tr th {\n",
       "        vertical-align: top;\n",
       "    }\n",
       "\n",
       "    .dataframe thead th {\n",
       "        text-align: right;\n",
       "    }\n",
       "</style>\n",
       "<table border=\"1\" class=\"dataframe\">\n",
       "  <thead>\n",
       "    <tr style=\"text-align: right;\">\n",
       "      <th></th>\n",
       "      <th>Predictor</th>\n",
       "      <th>Coefficient</th>\n",
       "    </tr>\n",
       "  </thead>\n",
       "  <tbody>\n",
       "    <tr>\n",
       "      <th>0</th>\n",
       "      <td>US</td>\n",
       "      <td>18.618756</td>\n",
       "    </tr>\n",
       "    <tr>\n",
       "      <th>1</th>\n",
       "      <td>source_a</td>\n",
       "      <td>22.970667</td>\n",
       "    </tr>\n",
       "    <tr>\n",
       "      <th>2</th>\n",
       "      <td>source_c</td>\n",
       "      <td>-43.699780</td>\n",
       "    </tr>\n",
       "    <tr>\n",
       "      <th>3</th>\n",
       "      <td>source_b</td>\n",
       "      <td>-37.639370</td>\n",
       "    </tr>\n",
       "    <tr>\n",
       "      <th>4</th>\n",
       "      <td>source_d</td>\n",
       "      <td>-65.071902</td>\n",
       "    </tr>\n",
       "    <tr>\n",
       "      <th>5</th>\n",
       "      <td>source_e</td>\n",
       "      <td>-39.933289</td>\n",
       "    </tr>\n",
       "    <tr>\n",
       "      <th>6</th>\n",
       "      <td>source_m</td>\n",
       "      <td>-55.665131</td>\n",
       "    </tr>\n",
       "    <tr>\n",
       "      <th>7</th>\n",
       "      <td>source_o</td>\n",
       "      <td>41.312097</td>\n",
       "    </tr>\n",
       "    <tr>\n",
       "      <th>8</th>\n",
       "      <td>source_h</td>\n",
       "      <td>-152.976257</td>\n",
       "    </tr>\n",
       "    <tr>\n",
       "      <th>9</th>\n",
       "      <td>source_r</td>\n",
       "      <td>49.381204</td>\n",
       "    </tr>\n",
       "    <tr>\n",
       "      <th>10</th>\n",
       "      <td>source_s</td>\n",
       "      <td>-13.427969</td>\n",
       "    </tr>\n",
       "    <tr>\n",
       "      <th>11</th>\n",
       "      <td>source_t</td>\n",
       "      <td>-64.363563</td>\n",
       "    </tr>\n",
       "    <tr>\n",
       "      <th>12</th>\n",
       "      <td>source_u</td>\n",
       "      <td>13.002463</td>\n",
       "    </tr>\n",
       "    <tr>\n",
       "      <th>13</th>\n",
       "      <td>source_p</td>\n",
       "      <td>-59.026222</td>\n",
       "    </tr>\n",
       "    <tr>\n",
       "      <th>14</th>\n",
       "      <td>source_x</td>\n",
       "      <td>-33.834799</td>\n",
       "    </tr>\n",
       "    <tr>\n",
       "      <th>15</th>\n",
       "      <td>source_w</td>\n",
       "      <td>4.796471</td>\n",
       "    </tr>\n",
       "    <tr>\n",
       "      <th>16</th>\n",
       "      <td>Freq</td>\n",
       "      <td>84.594789</td>\n",
       "    </tr>\n",
       "    <tr>\n",
       "      <th>17</th>\n",
       "      <td>last_update_days_ago</td>\n",
       "      <td>-0.022070</td>\n",
       "    </tr>\n",
       "    <tr>\n",
       "      <th>18</th>\n",
       "      <td>1st_update_days_ago</td>\n",
       "      <td>-0.002507</td>\n",
       "    </tr>\n",
       "    <tr>\n",
       "      <th>19</th>\n",
       "      <td>Web order</td>\n",
       "      <td>-3.931550</td>\n",
       "    </tr>\n",
       "    <tr>\n",
       "      <th>20</th>\n",
       "      <td>Gender=male</td>\n",
       "      <td>-35.643459</td>\n",
       "    </tr>\n",
       "    <tr>\n",
       "      <th>21</th>\n",
       "      <td>Address_is_res</td>\n",
       "      <td>-90.347336</td>\n",
       "    </tr>\n",
       "  </tbody>\n",
       "</table>\n",
       "</div>"
      ],
      "text/plain": [
       "               Predictor  Coefficient\n",
       "0                     US    18.618756\n",
       "1               source_a    22.970667\n",
       "2               source_c   -43.699780\n",
       "3               source_b   -37.639370\n",
       "4               source_d   -65.071902\n",
       "5               source_e   -39.933289\n",
       "6               source_m   -55.665131\n",
       "7               source_o    41.312097\n",
       "8               source_h  -152.976257\n",
       "9               source_r    49.381204\n",
       "10              source_s   -13.427969\n",
       "11              source_t   -64.363563\n",
       "12              source_u    13.002463\n",
       "13              source_p   -59.026222\n",
       "14              source_x   -33.834799\n",
       "15              source_w     4.796471\n",
       "16                  Freq    84.594789\n",
       "17  last_update_days_ago    -0.022070\n",
       "18   1st_update_days_ago    -0.002507\n",
       "19             Web order    -3.931550\n",
       "20           Gender=male   -35.643459\n",
       "21        Address_is_res   -90.347336"
      ]
     },
     "metadata": {},
     "output_type": "display_data"
    },
    {
     "name": "stdout",
     "output_type": "stream",
     "text": [
      "\n",
      "Regression statistics\n",
      "\n",
      "                      Mean Error (ME) : 0.0000\n",
      "       Root Mean Squared Error (RMSE) : 181.8183\n",
      "            Mean Absolute Error (MAE) : 108.5417\n",
      "          Mean Percentage Error (MPE) : -83.3628\n",
      "Mean Absolute Percentage Error (MAPE) : 112.4249\n"
     ]
    }
   ],
   "source": [
    "lr = LinearRegression()\n",
    "lr.fit(X_train_p, y_train_p)\n",
    "#print coefficients\n",
    "print('intercept', lr.intercept_)\n",
    "coef_table = pd.DataFrame({\"Predictor\": X_train_p.columns,\n",
    "                           \"Coefficient\": lr.coef_})\n",
    "display(coef_table)\n",
    "# Print performance measures \n",
    "# # based on the trainig set (purchasers)\n",
    "regressionSummary(y_train_p, lr.predict(X_train_p))"
   ]
  },
  {
   "cell_type": "code",
   "execution_count": 408,
   "id": "fd9a1173",
   "metadata": {},
   "outputs": [
    {
     "name": "stdout",
     "output_type": "stream",
     "text": [
      "      Predicted  Actual    Residual\n",
      "0     88.797490     128   39.202510\n",
      "8    444.408741     489   44.591259\n",
      "9    170.077343     174    3.922657\n",
      "18    94.592360     130   35.407640\n",
      "20   283.733158     386  102.266842\n",
      "21   276.931351     161 -115.931351\n",
      "24   229.195120     131  -98.195120\n",
      "25   147.620586     189   41.379414\n",
      "31   175.242849     352  176.757151\n",
      "41   207.158200      34 -173.158200\n",
      "43   830.957907     639 -191.957907\n",
      "44   253.905185     638  384.094815\n",
      "50   241.647766     232   -9.647766\n",
      "54   170.793172     375  204.206828\n",
      "60   244.617923     136 -108.617923\n",
      "78   201.305580     161  -40.305580\n",
      "81   168.674359     129  -39.674359\n",
      "83   238.870108      98 -140.870108\n",
      "86   199.759076     158  -41.759076\n",
      "105  147.586064     405  257.413936\n",
      "\n",
      "Regression statistics\n",
      "\n",
      "                      Mean Error (ME) : -21.1440\n",
      "       Root Mean Squared Error (RMSE) : 144.9845\n",
      "            Mean Absolute Error (MAE) : 99.8359\n",
      "          Mean Percentage Error (MPE) : -92.6650\n",
      "Mean Absolute Percentage Error (MAPE) : 116.2232\n"
     ]
    }
   ],
   "source": [
    "# Get predictions based on X_valid_p\n",
    "lin_pred = lr.predict(X_valid_p)\n",
    "\n",
    "# Get RMSE and MAE on validation set\n",
    "lin_rmse = np.sqrt(mean_squared_error(y_valid_p, lin_pred))\n",
    "lin_mae = mean_absolute_error(y_valid_p, lin_pred)\n",
    "\n",
    "result = pd.DataFrame({'Predicted': lin_pred, 'Actual': y_valid_p, \n",
    "                       'Residual': y_valid_p - lin_pred})\n",
    "\n",
    "print(result.head(20))\n",
    "\n",
    "# based on the validation set\n",
    "regressionSummary(y_valid_p, lin_pred)"
   ]
  },
  {
   "cell_type": "code",
   "execution_count": 409,
   "id": "08e8a13f",
   "metadata": {},
   "outputs": [
    {
     "name": "stdout",
     "output_type": "stream",
     "text": [
      "75% residual threshold: 134.40496491556274\n",
      "0.7457142857142857\n"
     ]
    },
    {
     "data": {
      "image/png": "[encoded data removed]",
      "text/plain": [
       "<Figure size 640x480 with 1 Axes>"
      ]
     },
     "metadata": {},
     "output_type": "display_data"
    }
   ],
   "source": [
    "# DetermineDetermine the percentage of datapoints with a residual in 75% threshold\n",
    "residuals = y_valid_p - lin_pred\n",
    "# Take absolute value\n",
    "abs_resid = np.abs(residuals)\n",
    "\n",
    "# 75th percentile threshold\n",
    "threshold = np.percentile(abs_resid, 75)\n",
    "\n",
    "# Percentage of data points within this threshold\n",
    "within_75 = np.mean(abs_resid <= threshold) * 100\n",
    "\n",
    "print(\"75% residual threshold:\", threshold)\n",
    "print(len(residuals[(residuals > -134) & (residuals < 134)]) /len(residuals))\n",
    "pd.DataFrame({\"Residuals\": residuals}).hist(bins=25)\n",
    "plt.show()"
   ]
  },
  {
   "cell_type": "markdown",
   "id": "b1c8ee1f",
   "metadata": {},
   "source": [
    "Most prediction errors are centered around zero with a roughly symmetric distribution, and about 75% of the residuals fall within a moderate range, means the model good fit with some larger outliers."
   ]
  },
  {
   "cell_type": "markdown",
   "id": "425e83ff",
   "metadata": {},
   "source": [
    "#### 3.2.2 Regression trees"
   ]
  },
  {
   "cell_type": "code",
   "execution_count": 410,
   "id": "29b60bde",
   "metadata": {},
   "outputs": [],
   "source": [
    "tree = DecisionTreeRegressor(max_depth=5, random_state=42)\n",
    "tree.fit(X_train_p, y_train_p)\n",
    "\n",
    "tree_pred = tree.predict(X_valid_p)\n",
    "tree_rmse = np.sqrt(mean_squared_error(y_valid_p, tree_pred))\n",
    "tree_mae = mean_absolute_error(y_valid_p, tree_pred)"
   ]
  },
  {
   "cell_type": "markdown",
   "id": "b7ef4fb4",
   "metadata": {},
   "source": [
    "#### 3.2.3 Model selection and explain\n",
    "Compare both models on the validation set, choose the better one."
   ]
  },
  {
   "cell_type": "code",
   "execution_count": 411,
   "id": "18e23c1d",
   "metadata": {},
   "outputs": [
    {
     "name": "stdout",
     "output_type": "stream",
     "text": [
      "Validation Results:\n",
      "Linear Regression: RMSE=144.98, MAE=99.84\n",
      "Regression Tree:   RMSE=175.23, MAE=104.98\n",
      "→ Linear Regression performs better on validation set.\n"
     ]
    }
   ],
   "source": [
    "print(\"Validation Results:\")\n",
    "print(f\"Linear Regression: RMSE={lin_rmse:.2f}, MAE={lin_mae:.2f}\")\n",
    "print(f\"Regression Tree:   RMSE={tree_rmse:.2f}, MAE={tree_mae:.2f}\")\n",
    "\n",
    "# Choose model with lower error\n",
    "if tree_rmse < lin_rmse:\n",
    "    print(\"→ Regression Tree performs better on validation set.\")\n",
    "else:\n",
    "    print(\"→ Linear Regression performs better on validation set.\")"
   ]
  },
  {
   "cell_type": "markdown",
   "id": "418e6254",
   "metadata": {},
   "source": [
    "#### stepwise forward selection for the linear regression "
   ]
  },
  {
   "cell_type": "code",
   "execution_count": 412,
   "id": "08948c2a",
   "metadata": {},
   "outputs": [
    {
     "name": "stdout",
     "output_type": "stream",
     "text": [
      "Stepwise LR selected: ['source_a', 'source_c', 'source_d', 'source_m', 'source_h', 'source_t', 'source_p', 'Freq', 'last_update_days_ago', 'Gender=male', 'Address_is_res']\n",
      "Validation — Linear Regression: RMSE=144.79, MAE=98.02\n"
     ]
    }
   ],
   "source": [
    "from sklearn.feature_selection import SequentialFeatureSelector\n",
    "from sklearn.metrics import mean_squared_error, mean_absolute_error\n",
    "\n",
    "# Forward stepwise on TRAIN only\n",
    "base_lr = LinearRegression()\n",
    "sfs = SequentialFeatureSelector(\n",
    "    base_lr, direction=\"forward\", n_features_to_select=\"auto\",\n",
    "    scoring=\"neg_mean_squared_error\", cv=5, n_jobs=-1\n",
    ").fit(X_train_p, y_train_p)\n",
    "\n",
    "# Selected features and final fit\n",
    "sel_feats = X_train_p.columns[sfs.get_support()]\n",
    "best_model = LinearRegression().fit(X_train_p[sel_feats], y_train_p)\n",
    "\n",
    "# Validate\n",
    "lr_pred = best_model.predict(X_valid_p[sel_feats])\n",
    "lr_rmse = np.sqrt(mean_squared_error(y_valid_p, lr_pred))\n",
    "lr_mae  = mean_absolute_error(y_valid_p, lr_pred)\n",
    "\n",
    "print(\"Stepwise LR selected:\", list(sel_feats))\n",
    "print(f\"Validation — Linear Regression: RMSE={lr_rmse:.2f}, MAE={lr_mae:.2f}\")"
   ]
  },
  {
   "cell_type": "markdown",
   "id": "fdc571dd",
   "metadata": {},
   "source": [
    "Intepretation 3.2.3: The goal in Question 3 was to predict how much a customer will spend if they purchase. Between the two models tested, multiple linear regression achieved lower errors (RMSE = 144.98, MAE = 99.84) than the regression tree (RMSE = 175.23, MAE = 104.98). Stepwise regression further confirmed the strength of the linear model, and validation results showed it predicts spending more accurately. Therefore, linear regression is chosen as the better model for forecasting spending."
   ]
  },
  {
   "cell_type": "markdown",
   "id": "85f48f41",
   "metadata": {},
   "source": [
    "## 4. Score Analysis and Profit Estimation Using Test Data"
   ]
  },
  {
   "cell_type": "markdown",
   "id": "e8de8a38",
   "metadata": {},
   "source": [
    "### 4.1 Add a column - Logistic regression"
   ]
  },
  {
   "cell_type": "code",
   "execution_count": 413,
   "id": "e6cccf97",
   "metadata": {},
   "outputs": [],
   "source": [
    "# Predict probability of purchase (class=1) from logistic regression pipeline\n",
    "test_proba = pipe.predict_proba(test_X)[:, 1]\n",
    "\n",
    "# Create Score Analysis DataFrame\n",
    "score_analysis = test_X.copy()\n",
    "score_analysis[\"Purchase\"] = test_y.values\n",
    "score_analysis[\"p_purchase\"] = test_proba"
   ]
  },
  {
   "cell_type": "code",
   "execution_count": 414,
   "id": "2a0ae963",
   "metadata": {},
   "outputs": [
    {
     "data": {
      "application/vnd.microsoft.datawrangler.viewer.v0+json": {
       "columns": [
        {
         "name": "index",
         "rawType": "object",
         "type": "string"
        },
        {
         "name": "0",
         "rawType": "object",
         "type": "unknown"
        }
       ],
       "ref": "693c3475-7a55-4cb7-9bb4-b187f6d1846c",
       "rows": [
        [
         "US",
         "int64"
        ],
        [
         "source_a",
         "int64"
        ],
        [
         "source_c",
         "int64"
        ],
        [
         "source_b",
         "int64"
        ],
        [
         "source_d",
         "int64"
        ],
        [
         "source_e",
         "int64"
        ],
        [
         "source_m",
         "int64"
        ],
        [
         "source_o",
         "int64"
        ],
        [
         "source_h",
         "int64"
        ],
        [
         "source_r",
         "int64"
        ],
        [
         "source_s",
         "int64"
        ],
        [
         "source_t",
         "int64"
        ],
        [
         "source_u",
         "int64"
        ],
        [
         "source_p",
         "int64"
        ],
        [
         "source_x",
         "int64"
        ],
        [
         "source_w",
         "int64"
        ],
        [
         "Freq",
         "int64"
        ],
        [
         "last_update_days_ago",
         "int64"
        ],
        [
         "1st_update_days_ago",
         "int64"
        ],
        [
         "Web order",
         "int64"
        ],
        [
         "Gender=male",
         "int64"
        ],
        [
         "Address_is_res",
         "int64"
        ],
        [
         "Purchase",
         "int64"
        ],
        [
         "p_purchase",
         "float64"
        ]
       ],
       "shape": {
        "columns": 1,
        "rows": 24
       }
      },
      "text/plain": [
       "US                        int64\n",
       "source_a                  int64\n",
       "source_c                  int64\n",
       "source_b                  int64\n",
       "source_d                  int64\n",
       "source_e                  int64\n",
       "source_m                  int64\n",
       "source_o                  int64\n",
       "source_h                  int64\n",
       "source_r                  int64\n",
       "source_s                  int64\n",
       "source_t                  int64\n",
       "source_u                  int64\n",
       "source_p                  int64\n",
       "source_x                  int64\n",
       "source_w                  int64\n",
       "Freq                      int64\n",
       "last_update_days_ago      int64\n",
       "1st_update_days_ago       int64\n",
       "Web order                 int64\n",
       "Gender=male               int64\n",
       "Address_is_res            int64\n",
       "Purchase                  int64\n",
       "p_purchase              float64\n",
       "dtype: object"
      ]
     },
     "execution_count": 414,
     "metadata": {},
     "output_type": "execute_result"
    }
   ],
   "source": [
    "score_analysis.dtypes"
   ]
  },
  {
   "cell_type": "markdown",
   "id": "af23afed",
   "metadata": {},
   "source": [
    "### 4.2 Add another column - predict spending amount from (chosen model from 3.2.3)"
   ]
  },
  {
   "cell_type": "code",
   "execution_count": 415,
   "id": "78924471",
   "metadata": {},
   "outputs": [],
   "source": [
    "# chosen linear regression (stepwise)\n",
    "# Use the same selected predictors as in stepwise\n",
    "spend_pred = best_model.predict(test_X[sel_feats])\n",
    "\n",
    "score_analysis[\"pred_spending\"] = spend_pred"
   ]
  },
  {
   "cell_type": "code",
   "execution_count": 416,
   "id": "ca852069",
   "metadata": {},
   "outputs": [
    {
     "name": "stdout",
     "output_type": "stream",
     "text": [
      "<class 'pandas.core.frame.DataFrame'>\n",
      "Index: 500 entries, 1052 to 475\n",
      "Data columns (total 25 columns):\n",
      " #   Column                Non-Null Count  Dtype  \n",
      "---  ------                --------------  -----  \n",
      " 0   US                    500 non-null    int64  \n",
      " 1   source_a              500 non-null    int64  \n",
      " 2   source_c              500 non-null    int64  \n",
      " 3   source_b              500 non-null    int64  \n",
      " 4   source_d              500 non-null    int64  \n",
      " 5   source_e              500 non-null    int64  \n",
      " 6   source_m              500 non-null    int64  \n",
      " 7   source_o              500 non-null    int64  \n",
      " 8   source_h              500 non-null    int64  \n",
      " 9   source_r              500 non-null    int64  \n",
      " 10  source_s              500 non-null    int64  \n",
      " 11  source_t              500 non-null    int64  \n",
      " 12  source_u              500 non-null    int64  \n",
      " 13  source_p              500 non-null    int64  \n",
      " 14  source_x              500 non-null    int64  \n",
      " 15  source_w              500 non-null    int64  \n",
      " 16  Freq                  500 non-null    int64  \n",
      " 17  last_update_days_ago  500 non-null    int64  \n",
      " 18  1st_update_days_ago   500 non-null    int64  \n",
      " 19  Web order             500 non-null    int64  \n",
      " 20  Gender=male           500 non-null    int64  \n",
      " 21  Address_is_res        500 non-null    int64  \n",
      " 22  Purchase              500 non-null    int64  \n",
      " 23  p_purchase            500 non-null    float64\n",
      " 24  pred_spending         500 non-null    float64\n",
      "dtypes: float64(2), int64(23)\n",
      "memory usage: 101.6 KB\n"
     ]
    }
   ],
   "source": [
    "list(score_analysis.columns)\n",
    "score_analysis.info()"
   ]
  },
  {
   "cell_type": "code",
   "execution_count": 417,
   "id": "5b9e71b9",
   "metadata": {},
   "outputs": [
    {
     "data": {
      "application/vnd.microsoft.datawrangler.viewer.v0+json": {
       "columns": [
        {
         "name": "index",
         "rawType": "int64",
         "type": "integer"
        },
        {
         "name": "US",
         "rawType": "int64",
         "type": "integer"
        },
        {
         "name": "source_a",
         "rawType": "int64",
         "type": "integer"
        },
        {
         "name": "source_c",
         "rawType": "int64",
         "type": "integer"
        },
        {
         "name": "source_b",
         "rawType": "int64",
         "type": "integer"
        },
        {
         "name": "source_d",
         "rawType": "int64",
         "type": "integer"
        },
        {
         "name": "source_e",
         "rawType": "int64",
         "type": "integer"
        },
        {
         "name": "source_m",
         "rawType": "int64",
         "type": "integer"
        },
        {
         "name": "source_o",
         "rawType": "int64",
         "type": "integer"
        },
        {
         "name": "source_h",
         "rawType": "int64",
         "type": "integer"
        },
        {
         "name": "source_r",
         "rawType": "int64",
         "type": "integer"
        },
        {
         "name": "source_s",
         "rawType": "int64",
         "type": "integer"
        },
        {
         "name": "source_t",
         "rawType": "int64",
         "type": "integer"
        },
        {
         "name": "source_u",
         "rawType": "int64",
         "type": "integer"
        },
        {
         "name": "source_p",
         "rawType": "int64",
         "type": "integer"
        },
        {
         "name": "source_x",
         "rawType": "int64",
         "type": "integer"
        },
        {
         "name": "source_w",
         "rawType": "int64",
         "type": "integer"
        },
        {
         "name": "Freq",
         "rawType": "int64",
         "type": "integer"
        },
        {
         "name": "last_update_days_ago",
         "rawType": "int64",
         "type": "integer"
        },
        {
         "name": "1st_update_days_ago",
         "rawType": "int64",
         "type": "integer"
        },
        {
         "name": "Web order",
         "rawType": "int64",
         "type": "integer"
        },
        {
         "name": "Gender=male",
         "rawType": "int64",
         "type": "integer"
        },
        {
         "name": "Address_is_res",
         "rawType": "int64",
         "type": "integer"
        },
        {
         "name": "Purchase",
         "rawType": "int64",
         "type": "integer"
        },
        {
         "name": "p_purchase",
         "rawType": "float64",
         "type": "float"
        },
        {
         "name": "pred_spending",
         "rawType": "float64",
         "type": "float"
        }
       ],
       "ref": "b92dc6cc-365e-473c-beb7-cb6ad1e9988d",
       "rows": [
        [
         "1052",
         "1",
         "1",
         "0",
         "0",
         "0",
         "0",
         "0",
         "0",
         "0",
         "0",
         "0",
         "0",
         "0",
         "0",
         "0",
         "0",
         "1",
         "3067",
         "3067",
         "0",
         "0",
         "0",
         "1",
         "0.5812261429818615",
         "167.63702780699145"
        ],
        [
         "1603",
         "1",
         "0",
         "0",
         "0",
         "0",
         "0",
         "0",
         "0",
         "0",
         "0",
         "0",
         "0",
         "1",
         "0",
         "0",
         "0",
         "1",
         "2690",
         "2690",
         "1",
         "0",
         "0",
         "1",
         "0.7706390953673409",
         "148.6878720237292"
        ],
        [
         "1784",
         "0",
         "0",
         "0",
         "0",
         "0",
         "0",
         "0",
         "0",
         "0",
         "0",
         "0",
         "0",
         "1",
         "0",
         "0",
         "0",
         "1",
         "4127",
         "4127",
         "0",
         "0",
         "0",
         "1",
         "0.5516690755342991",
         "113.06841191891198"
        ],
        [
         "464",
         "0",
         "0",
         "0",
         "0",
         "0",
         "0",
         "0",
         "0",
         "0",
         "0",
         "0",
         "0",
         "0",
         "0",
         "0",
         "1",
         "1",
         "1091",
         "1091",
         "0",
         "0",
         "0",
         "0",
         "0.40932508858779976",
         "188.32288712992454"
        ],
        [
         "752",
         "1",
         "1",
         "0",
         "0",
         "0",
         "0",
         "0",
         "0",
         "0",
         "0",
         "0",
         "0",
         "0",
         "0",
         "0",
         "0",
         "1",
         "2947",
         "2947",
         "0",
         "1",
         "0",
         "1",
         "0.4965620018151272",
         "140.1511029648266"
        ]
       ],
       "shape": {
        "columns": 25,
        "rows": 5
       }
      },
      "text/html": [
       "<div>\n",
       "<style scoped>\n",
       "    .dataframe tbody tr th:only-of-type {\n",
       "        vertical-align: middle;\n",
       "    }\n",
       "\n",
       "    .dataframe tbody tr th {\n",
       "        vertical-align: top;\n",
       "    }\n",
       "\n",
       "    .dataframe thead th {\n",
       "        text-align: right;\n",
       "    }\n",
       "</style>\n",
       "<table border=\"1\" class=\"dataframe\">\n",
       "  <thead>\n",
       "    <tr style=\"text-align: right;\">\n",
       "      <th></th>\n",
       "      <th>US</th>\n",
       "      <th>source_a</th>\n",
       "      <th>source_c</th>\n",
       "      <th>source_b</th>\n",
       "      <th>source_d</th>\n",
       "      <th>source_e</th>\n",
       "      <th>source_m</th>\n",
       "      <th>source_o</th>\n",
       "      <th>source_h</th>\n",
       "      <th>source_r</th>\n",
       "      <th>...</th>\n",
       "      <th>source_w</th>\n",
       "      <th>Freq</th>\n",
       "      <th>last_update_days_ago</th>\n",
       "      <th>1st_update_days_ago</th>\n",
       "      <th>Web order</th>\n",
       "      <th>Gender=male</th>\n",
       "      <th>Address_is_res</th>\n",
       "      <th>Purchase</th>\n",
       "      <th>p_purchase</th>\n",
       "      <th>pred_spending</th>\n",
       "    </tr>\n",
       "  </thead>\n",
       "  <tbody>\n",
       "    <tr>\n",
       "      <th>1052</th>\n",
       "      <td>1</td>\n",
       "      <td>1</td>\n",
       "      <td>0</td>\n",
       "      <td>0</td>\n",
       "      <td>0</td>\n",
       "      <td>0</td>\n",
       "      <td>0</td>\n",
       "      <td>0</td>\n",
       "      <td>0</td>\n",
       "      <td>0</td>\n",
       "      <td>...</td>\n",
       "      <td>0</td>\n",
       "      <td>1</td>\n",
       "      <td>3067</td>\n",
       "      <td>3067</td>\n",
       "      <td>0</td>\n",
       "      <td>0</td>\n",
       "      <td>0</td>\n",
       "      <td>1</td>\n",
       "      <td>0.581226</td>\n",
       "      <td>167.637028</td>\n",
       "    </tr>\n",
       "    <tr>\n",
       "      <th>1603</th>\n",
       "      <td>1</td>\n",
       "      <td>0</td>\n",
       "      <td>0</td>\n",
       "      <td>0</td>\n",
       "      <td>0</td>\n",
       "      <td>0</td>\n",
       "      <td>0</td>\n",
       "      <td>0</td>\n",
       "      <td>0</td>\n",
       "      <td>0</td>\n",
       "      <td>...</td>\n",
       "      <td>0</td>\n",
       "      <td>1</td>\n",
       "      <td>2690</td>\n",
       "      <td>2690</td>\n",
       "      <td>1</td>\n",
       "      <td>0</td>\n",
       "      <td>0</td>\n",
       "      <td>1</td>\n",
       "      <td>0.770639</td>\n",
       "      <td>148.687872</td>\n",
       "    </tr>\n",
       "    <tr>\n",
       "      <th>1784</th>\n",
       "      <td>0</td>\n",
       "      <td>0</td>\n",
       "      <td>0</td>\n",
       "      <td>0</td>\n",
       "      <td>0</td>\n",
       "      <td>0</td>\n",
       "      <td>0</td>\n",
       "      <td>0</td>\n",
       "      <td>0</td>\n",
       "      <td>0</td>\n",
       "      <td>...</td>\n",
       "      <td>0</td>\n",
       "      <td>1</td>\n",
       "      <td>4127</td>\n",
       "      <td>4127</td>\n",
       "      <td>0</td>\n",
       "      <td>0</td>\n",
       "      <td>0</td>\n",
       "      <td>1</td>\n",
       "      <td>0.551669</td>\n",
       "      <td>113.068412</td>\n",
       "    </tr>\n",
       "    <tr>\n",
       "      <th>464</th>\n",
       "      <td>0</td>\n",
       "      <td>0</td>\n",
       "      <td>0</td>\n",
       "      <td>0</td>\n",
       "      <td>0</td>\n",
       "      <td>0</td>\n",
       "      <td>0</td>\n",
       "      <td>0</td>\n",
       "      <td>0</td>\n",
       "      <td>0</td>\n",
       "      <td>...</td>\n",
       "      <td>1</td>\n",
       "      <td>1</td>\n",
       "      <td>1091</td>\n",
       "      <td>1091</td>\n",
       "      <td>0</td>\n",
       "      <td>0</td>\n",
       "      <td>0</td>\n",
       "      <td>0</td>\n",
       "      <td>0.409325</td>\n",
       "      <td>188.322887</td>\n",
       "    </tr>\n",
       "    <tr>\n",
       "      <th>752</th>\n",
       "      <td>1</td>\n",
       "      <td>1</td>\n",
       "      <td>0</td>\n",
       "      <td>0</td>\n",
       "      <td>0</td>\n",
       "      <td>0</td>\n",
       "      <td>0</td>\n",
       "      <td>0</td>\n",
       "      <td>0</td>\n",
       "      <td>0</td>\n",
       "      <td>...</td>\n",
       "      <td>0</td>\n",
       "      <td>1</td>\n",
       "      <td>2947</td>\n",
       "      <td>2947</td>\n",
       "      <td>0</td>\n",
       "      <td>1</td>\n",
       "      <td>0</td>\n",
       "      <td>1</td>\n",
       "      <td>0.496562</td>\n",
       "      <td>140.151103</td>\n",
       "    </tr>\n",
       "  </tbody>\n",
       "</table>\n",
       "<p>5 rows × 25 columns</p>\n",
       "</div>"
      ],
      "text/plain": [
       "      US  source_a  source_c  source_b  source_d  source_e  source_m  \\\n",
       "1052   1         1         0         0         0         0         0   \n",
       "1603   1         0         0         0         0         0         0   \n",
       "1784   0         0         0         0         0         0         0   \n",
       "464    0         0         0         0         0         0         0   \n",
       "752    1         1         0         0         0         0         0   \n",
       "\n",
       "      source_o  source_h  source_r  ...  source_w  Freq  last_update_days_ago  \\\n",
       "1052         0         0         0  ...         0     1                  3067   \n",
       "1603         0         0         0  ...         0     1                  2690   \n",
       "1784         0         0         0  ...         0     1                  4127   \n",
       "464          0         0         0  ...         1     1                  1091   \n",
       "752          0         0         0  ...         0     1                  2947   \n",
       "\n",
       "      1st_update_days_ago  Web order  Gender=male  Address_is_res  Purchase  \\\n",
       "1052                 3067          0            0               0         1   \n",
       "1603                 2690          1            0               0         1   \n",
       "1784                 4127          0            0               0         1   \n",
       "464                  1091          0            0               0         0   \n",
       "752                  2947          0            1               0         1   \n",
       "\n",
       "      p_purchase  pred_spending  \n",
       "1052    0.581226     167.637028  \n",
       "1603    0.770639     148.687872  \n",
       "1784    0.551669     113.068412  \n",
       "464     0.409325     188.322887  \n",
       "752     0.496562     140.151103  \n",
       "\n",
       "[5 rows x 25 columns]"
      ]
     },
     "execution_count": 417,
     "metadata": {},
     "output_type": "execute_result"
    }
   ],
   "source": [
    "score_analysis.head()"
   ]
  },
  {
   "cell_type": "markdown",
   "id": "b11e05c4",
   "metadata": {},
   "source": [
    "### 4.3 skip"
   ]
  },
  {
   "cell_type": "markdown",
   "id": "76d96260",
   "metadata": {},
   "source": [
    "### 4.4 Add expected spending (adjusted probability × predicted spending)\n",
    " 1. In the mailing experiment, Tayko mailed 20,000 names and got 1,065 purchasers. That gives the true response rate: 1065 / 20000 = 0.053\n",
    " 2. But for modeling, the dataset was rebalanced to 1,000 purchasers and 1,000 non-purchasers. That makes the apparent response rate = 0.5 (50%) in the training data.\n",
    " 3. So after fitting the logistic regression, we need to adjust the model’s predicted purchase probability back to the true population rate to get the adjusted probability of purchase 0.053/0.5 =0.107."
   ]
  },
  {
   "cell_type": "code",
   "execution_count": 418,
   "id": "7f72fe02",
   "metadata": {},
   "outputs": [],
   "source": [
    "adjust_factor = 0.053 / 0.5   # = 0.107\n",
    "score_analysis[\"expected_spending\"] = (\n",
    "    score_analysis[\"p_purchase\"] * adjust_factor * score_analysis[\"pred_spending\"]\n",
    ")"
   ]
  },
  {
   "cell_type": "markdown",
   "id": "0023339a",
   "metadata": {},
   "source": [
    "### 4.5 Plot cumulative gains chart of the expected spending"
   ]
  },
  {
   "cell_type": "code",
   "execution_count": 419,
   "id": "e66478d7",
   "metadata": {},
   "outputs": [
    {
     "data": {
      "image/png": "[encoded data removed]",
      "text/plain": [
       "<Figure size 800x500 with 1 Axes>"
      ]
     },
     "metadata": {},
     "output_type": "display_data"
    }
   ],
   "source": [
    "# Sort customers by expected spending (highest to lowest)\n",
    "score_sorted = score_analysis.sort_values(\"expected_spending\", ascending=False).reset_index(drop=True)\n",
    "\n",
    "# Cumulative expected spending\n",
    "cumulative_spending = np.cumsum(score_sorted[\"expected_spending\"])\n",
    "\n",
    "plt.figure(figsize=(8,5))\n",
    "plt.plot(range(1, len(cumulative_spending)+1), cumulative_spending, label=\"Cumulative Expected Spending\")\n",
    "plt.xlabel(\"Number of Customers Targeted\")\n",
    "plt.ylabel(\"Cumulative Expected Spending\")\n",
    "plt.title(\"Cumulative Gains Chart (Expected Spending)\")\n",
    "plt.legend()\n",
    "plt.grid(True)\n",
    "plt.show()"
   ]
  },
  {
   "cell_type": "markdown",
   "id": "a6eee1f8",
   "metadata": {},
   "source": [
    "### 4.6 using this cumulative gains curve (not directly), estimate the gross profit - based on the model.\n",
    "Estimate gross profit for mailing 180,000 names\n",
    "\n",
    "1.\tCompute the average expected spending per record in the test sample.\n",
    "2.\tScale to 180,000.\n",
    "3.\tSubtract mailing costs ($2 × 180,000)."
   ]
  },
  {
   "cell_type": "code",
   "execution_count": 420,
   "id": "10f54198",
   "metadata": {},
   "outputs": [
    {
     "name": "stdout",
     "output_type": "stream",
     "text": [
      "Avg expected spending per record: $10.84\n",
      "Total expected spending: $1951953.83\n",
      "Total expected cost: $360000.00\n",
      "Estimated gross profit (180k mailing): $1,591,953.83\n"
     ]
    }
   ],
   "source": [
    "# Average expected spending in test sample\n",
    "avg_exp_spending = score_analysis[\"expected_spending\"].mean()\n",
    "\n",
    "# Scale up to 180,000 customers\n",
    "total_expected_spending = avg_exp_spending * 180000\n",
    "\n",
    "# Mailing cost\n",
    "mailing_cost = 180000 * 2\n",
    "\n",
    "# Gross profit\n",
    "gross_profit = total_expected_spending - mailing_cost\n",
    "\n",
    "print(f\"Avg expected spending per record: ${avg_exp_spending:.2f}\")\n",
    "print(f\"Total expected spending: ${total_expected_spending:.2f}\")\n",
    "print(f\"Total expected cost: ${mailing_cost:.2f}\")\n",
    "print(f\"Estimated gross profit (180k mailing): ${gross_profit:,.2f}\")"
   ]
  },
  {
   "cell_type": "code",
   "execution_count": 421,
   "id": "c7ff8ea3",
   "metadata": {},
   "outputs": [
    {
     "data": {
      "application/vnd.microsoft.datawrangler.viewer.v0+json": {
       "columns": [
        {
         "name": "index",
         "rawType": "int64",
         "type": "integer"
        },
        {
         "name": "US",
         "rawType": "int64",
         "type": "integer"
        },
        {
         "name": "source_a",
         "rawType": "int64",
         "type": "integer"
        },
        {
         "name": "source_c",
         "rawType": "int64",
         "type": "integer"
        },
        {
         "name": "source_b",
         "rawType": "int64",
         "type": "integer"
        },
        {
         "name": "source_d",
         "rawType": "int64",
         "type": "integer"
        },
        {
         "name": "source_e",
         "rawType": "int64",
         "type": "integer"
        },
        {
         "name": "source_m",
         "rawType": "int64",
         "type": "integer"
        },
        {
         "name": "source_o",
         "rawType": "int64",
         "type": "integer"
        },
        {
         "name": "source_h",
         "rawType": "int64",
         "type": "integer"
        },
        {
         "name": "source_r",
         "rawType": "int64",
         "type": "integer"
        },
        {
         "name": "source_s",
         "rawType": "int64",
         "type": "integer"
        },
        {
         "name": "source_t",
         "rawType": "int64",
         "type": "integer"
        },
        {
         "name": "source_u",
         "rawType": "int64",
         "type": "integer"
        },
        {
         "name": "source_p",
         "rawType": "int64",
         "type": "integer"
        },
        {
         "name": "source_x",
         "rawType": "int64",
         "type": "integer"
        },
        {
         "name": "source_w",
         "rawType": "int64",
         "type": "integer"
        },
        {
         "name": "Freq",
         "rawType": "int64",
         "type": "integer"
        },
        {
         "name": "last_update_days_ago",
         "rawType": "int64",
         "type": "integer"
        },
        {
         "name": "1st_update_days_ago",
         "rawType": "int64",
         "type": "integer"
        },
        {
         "name": "Web order",
         "rawType": "int64",
         "type": "integer"
        },
        {
         "name": "Gender=male",
         "rawType": "int64",
         "type": "integer"
        },
        {
         "name": "Address_is_res",
         "rawType": "int64",
         "type": "integer"
        },
        {
         "name": "Purchase",
         "rawType": "int64",
         "type": "integer"
        },
        {
         "name": "p_purchase",
         "rawType": "float64",
         "type": "float"
        },
        {
         "name": "pred_spending",
         "rawType": "float64",
         "type": "float"
        },
        {
         "name": "expected_spending",
         "rawType": "float64",
         "type": "float"
        }
       ],
       "ref": "63a02109-3b3d-4403-9324-851ad18daf9f",
       "rows": [
        [
         "1052",
         "1",
         "1",
         "0",
         "0",
         "0",
         "0",
         "0",
         "0",
         "0",
         "0",
         "0",
         "0",
         "0",
         "0",
         "0",
         "0",
         "1",
         "3067",
         "3067",
         "0",
         "0",
         "0",
         "1",
         "0.5812261429818615",
         "167.63702780699145",
         "10.328112447879274"
        ],
        [
         "1603",
         "1",
         "0",
         "0",
         "0",
         "0",
         "0",
         "0",
         "0",
         "0",
         "0",
         "0",
         "0",
         "1",
         "0",
         "0",
         "0",
         "1",
         "2690",
         "2690",
         "1",
         "0",
         "0",
         "1",
         "0.7706390953673409",
         "148.6878720237292",
         "12.145976841976932"
        ],
        [
         "1784",
         "0",
         "0",
         "0",
         "0",
         "0",
         "0",
         "0",
         "0",
         "0",
         "0",
         "0",
         "0",
         "1",
         "0",
         "0",
         "0",
         "1",
         "4127",
         "4127",
         "0",
         "0",
         "0",
         "1",
         "0.5516690755342991",
         "113.06841191891198",
         "6.611892705196375"
        ],
        [
         "464",
         "0",
         "0",
         "0",
         "0",
         "0",
         "0",
         "0",
         "0",
         "0",
         "0",
         "0",
         "0",
         "0",
         "0",
         "0",
         "1",
         "1",
         "1091",
         "1091",
         "0",
         "0",
         "0",
         "0",
         "0.40932508858779976",
         "188.32288712992454",
         "8.171039940502057"
        ],
        [
         "752",
         "1",
         "1",
         "0",
         "0",
         "0",
         "0",
         "0",
         "0",
         "0",
         "0",
         "0",
         "0",
         "0",
         "0",
         "0",
         "0",
         "1",
         "2947",
         "2947",
         "0",
         "1",
         "0",
         "1",
         "0.4965620018151272",
         "140.1511029648266",
         "7.3769334979501044"
        ]
       ],
       "shape": {
        "columns": 26,
        "rows": 5
       }
      },
      "text/html": [
       "<div>\n",
       "<style scoped>\n",
       "    .dataframe tbody tr th:only-of-type {\n",
       "        vertical-align: middle;\n",
       "    }\n",
       "\n",
       "    .dataframe tbody tr th {\n",
       "        vertical-align: top;\n",
       "    }\n",
       "\n",
       "    .dataframe thead th {\n",
       "        text-align: right;\n",
       "    }\n",
       "</style>\n",
       "<table border=\"1\" class=\"dataframe\">\n",
       "  <thead>\n",
       "    <tr style=\"text-align: right;\">\n",
       "      <th></th>\n",
       "      <th>US</th>\n",
       "      <th>source_a</th>\n",
       "      <th>source_c</th>\n",
       "      <th>source_b</th>\n",
       "      <th>source_d</th>\n",
       "      <th>source_e</th>\n",
       "      <th>source_m</th>\n",
       "      <th>source_o</th>\n",
       "      <th>source_h</th>\n",
       "      <th>source_r</th>\n",
       "      <th>...</th>\n",
       "      <th>Freq</th>\n",
       "      <th>last_update_days_ago</th>\n",
       "      <th>1st_update_days_ago</th>\n",
       "      <th>Web order</th>\n",
       "      <th>Gender=male</th>\n",
       "      <th>Address_is_res</th>\n",
       "      <th>Purchase</th>\n",
       "      <th>p_purchase</th>\n",
       "      <th>pred_spending</th>\n",
       "      <th>expected_spending</th>\n",
       "    </tr>\n",
       "  </thead>\n",
       "  <tbody>\n",
       "    <tr>\n",
       "      <th>1052</th>\n",
       "      <td>1</td>\n",
       "      <td>1</td>\n",
       "      <td>0</td>\n",
       "      <td>0</td>\n",
       "      <td>0</td>\n",
       "      <td>0</td>\n",
       "      <td>0</td>\n",
       "      <td>0</td>\n",
       "      <td>0</td>\n",
       "      <td>0</td>\n",
       "      <td>...</td>\n",
       "      <td>1</td>\n",
       "      <td>3067</td>\n",
       "      <td>3067</td>\n",
       "      <td>0</td>\n",
       "      <td>0</td>\n",
       "      <td>0</td>\n",
       "      <td>1</td>\n",
       "      <td>0.581226</td>\n",
       "      <td>167.637028</td>\n",
       "      <td>10.328112</td>\n",
       "    </tr>\n",
       "    <tr>\n",
       "      <th>1603</th>\n",
       "      <td>1</td>\n",
       "      <td>0</td>\n",
       "      <td>0</td>\n",
       "      <td>0</td>\n",
       "      <td>0</td>\n",
       "      <td>0</td>\n",
       "      <td>0</td>\n",
       "      <td>0</td>\n",
       "      <td>0</td>\n",
       "      <td>0</td>\n",
       "      <td>...</td>\n",
       "      <td>1</td>\n",
       "      <td>2690</td>\n",
       "      <td>2690</td>\n",
       "      <td>1</td>\n",
       "      <td>0</td>\n",
       "      <td>0</td>\n",
       "      <td>1</td>\n",
       "      <td>0.770639</td>\n",
       "      <td>148.687872</td>\n",
       "      <td>12.145977</td>\n",
       "    </tr>\n",
       "    <tr>\n",
       "      <th>1784</th>\n",
       "      <td>0</td>\n",
       "      <td>0</td>\n",
       "      <td>0</td>\n",
       "      <td>0</td>\n",
       "      <td>0</td>\n",
       "      <td>0</td>\n",
       "      <td>0</td>\n",
       "      <td>0</td>\n",
       "      <td>0</td>\n",
       "      <td>0</td>\n",
       "      <td>...</td>\n",
       "      <td>1</td>\n",
       "      <td>4127</td>\n",
       "      <td>4127</td>\n",
       "      <td>0</td>\n",
       "      <td>0</td>\n",
       "      <td>0</td>\n",
       "      <td>1</td>\n",
       "      <td>0.551669</td>\n",
       "      <td>113.068412</td>\n",
       "      <td>6.611893</td>\n",
       "    </tr>\n",
       "    <tr>\n",
       "      <th>464</th>\n",
       "      <td>0</td>\n",
       "      <td>0</td>\n",
       "      <td>0</td>\n",
       "      <td>0</td>\n",
       "      <td>0</td>\n",
       "      <td>0</td>\n",
       "      <td>0</td>\n",
       "      <td>0</td>\n",
       "      <td>0</td>\n",
       "      <td>0</td>\n",
       "      <td>...</td>\n",
       "      <td>1</td>\n",
       "      <td>1091</td>\n",
       "      <td>1091</td>\n",
       "      <td>0</td>\n",
       "      <td>0</td>\n",
       "      <td>0</td>\n",
       "      <td>0</td>\n",
       "      <td>0.409325</td>\n",
       "      <td>188.322887</td>\n",
       "      <td>8.171040</td>\n",
       "    </tr>\n",
       "    <tr>\n",
       "      <th>752</th>\n",
       "      <td>1</td>\n",
       "      <td>1</td>\n",
       "      <td>0</td>\n",
       "      <td>0</td>\n",
       "      <td>0</td>\n",
       "      <td>0</td>\n",
       "      <td>0</td>\n",
       "      <td>0</td>\n",
       "      <td>0</td>\n",
       "      <td>0</td>\n",
       "      <td>...</td>\n",
       "      <td>1</td>\n",
       "      <td>2947</td>\n",
       "      <td>2947</td>\n",
       "      <td>0</td>\n",
       "      <td>1</td>\n",
       "      <td>0</td>\n",
       "      <td>1</td>\n",
       "      <td>0.496562</td>\n",
       "      <td>140.151103</td>\n",
       "      <td>7.376933</td>\n",
       "    </tr>\n",
       "  </tbody>\n",
       "</table>\n",
       "<p>5 rows × 26 columns</p>\n",
       "</div>"
      ],
      "text/plain": [
       "      US  source_a  source_c  source_b  source_d  source_e  source_m  \\\n",
       "1052   1         1         0         0         0         0         0   \n",
       "1603   1         0         0         0         0         0         0   \n",
       "1784   0         0         0         0         0         0         0   \n",
       "464    0         0         0         0         0         0         0   \n",
       "752    1         1         0         0         0         0         0   \n",
       "\n",
       "      source_o  source_h  source_r  ...  Freq  last_update_days_ago  \\\n",
       "1052         0         0         0  ...     1                  3067   \n",
       "1603         0         0         0  ...     1                  2690   \n",
       "1784         0         0         0  ...     1                  4127   \n",
       "464          0         0         0  ...     1                  1091   \n",
       "752          0         0         0  ...     1                  2947   \n",
       "\n",
       "      1st_update_days_ago  Web order  Gender=male  Address_is_res  Purchase  \\\n",
       "1052                 3067          0            0               0         1   \n",
       "1603                 2690          1            0               0         1   \n",
       "1784                 4127          0            0               0         1   \n",
       "464                  1091          0            0               0         0   \n",
       "752                  2947          0            1               0         1   \n",
       "\n",
       "      p_purchase  pred_spending  expected_spending  \n",
       "1052    0.581226     167.637028          10.328112  \n",
       "1603    0.770639     148.687872          12.145977  \n",
       "1784    0.551669     113.068412           6.611893  \n",
       "464     0.409325     188.322887           8.171040  \n",
       "752     0.496562     140.151103           7.376933  \n",
       "\n",
       "[5 rows x 26 columns]"
      ]
     },
     "execution_count": 421,
     "metadata": {},
     "output_type": "execute_result"
    }
   ],
   "source": [
    "score_analysis.head()"
   ]
  },
  {
   "cell_type": "markdown",
   "id": "372eca42",
   "metadata": {},
   "source": [
    "## 5. Summary and Result"
   ]
  },
  {
   "cell_type": "markdown",
   "id": "c07005b3",
   "metadata": {},
   "source": [
    "**Business Objective** \n",
    "As the data scientist supporting Tayko, a software catalog firm that sells games and educational software, my objective is to help optimize its catalog mailing strategy by reducing wasted costs and focusing on customers most likely to purchase and spend. Since sending the catalog to everyone is prohibitively expensive, the goal is to target the right group of customers in order to maximize profit.\n",
    "\n",
    "**Models Used and Why**  \n",
    "To do this, I applied a few different data mining approaches. First, I used logistic regression to classify customers as purchasers or non-purchasers and to generate a probability of purchase for each record. Then, for those predicted to purchase, I tested both multiple linear regression and regression trees to estimate spending. I also applied stepwise regression to reduce predictors and avoid overfitting, ensuring that only the most relevant variables were kept in the model. The linear regression model consistently produced lower error rates (RMSE and MAE) compared to the regression tree, and stepwise selection confirmed that it provided a more stable and interpretable solution.\n",
    "\n",
    "**Model Results and Recommendations**  \n",
    "The results show that this combined modeling strategy works well. Logistic regression achieved strong classification accuracy, and linear regression predicted spending with better performance than regression trees. The cumulative gains chart further demonstrated that targeting customers by expected spending yields far greater returns than random mailing. Using the predicted probabilities and expected spending, the estimated gross profit from mailing to 180,000 customers is about $1.59 million after costs.\n",
    "\n",
    "**Recommendation:** Based on the gains curve, Tayko should target approximately the top 120,000–140,000 customers ranked by expected spending (probability × predicted spending), rather than mailing to the entire 180,000 names. This cutoff balances mailing costs against incremental revenue, ensuring each additional mailing remains profitable. Under this strategy, Tayko can expect an estimated $1.5–$1.6 million gross profit, a significant improvement over a random or full mailing.\n",
    "\n",
    "**Next Steps:** Tayko should operationalize this by (1) applying the logistic regression model to score the entire 200,000 eligible customers, (2) predicting spending with the linear regression model for likely purchasers, (3) ranking all customers by expected spending, and (4) selecting the top-ranked segment (≈120k–140k) for catalog distribution. This ensures the company reduces wasted costs, focuses on the most profitable customers, and creates a repeatable, data-driven process for future campaigns."
   ]
  }
 ],
 "metadata": {
  "kernelspec": {
   "display_name": "base",
   "language": "python",
   "name": "python3"
  },
  "language_info": {
   "codemirror_mode": {
    "name": "ipython",
    "version": 3
   },
   "file_extension": ".py",
   "mimetype": "text/x-python",
   "name": "python",
   "nbconvert_exporter": "python",
   "pygments_lexer": "ipython3",
   "version": "3.12.7"
  }
 },
 "nbformat": 4,
 "nbformat_minor": 5
}
